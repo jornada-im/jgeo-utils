{
 "cells": [
  {
   "cell_type": "code",
   "execution_count": 1,
   "id": "f7954435-6abf-41fc-b365-4b875e46228a",
   "metadata": {},
   "outputs": [],
   "source": [
    "# Import sqlalchemy and pandas\n",
    "import sqlalchemy as sqla\n",
    "import pandas as pd\n",
    "import numpy as np\n",
    "import re"
   ]
  },
  {
   "cell_type": "code",
   "execution_count": 2,
   "id": "e971a4cb-a9b0-433a-b72a-11fa8b33a273",
   "metadata": {},
   "outputs": [],
   "source": [
    "# Get credentials for the jgeo database\n",
    "import sys\n",
    "sys.path.append('/home/greg/admin/')\n",
    "import jgeo_cred as dbcred\n",
    "\n",
    "# get a connection to jgeo\n",
    "conn = sqla.create_engine(\"postgresql+psycopg2://{0}:{1}@{2}:5432/{3}\".format(dbcred.user, dbcred.pwd, dbcred.host, dbcred.db))"
   ]
  },
  {
   "cell_type": "code",
   "execution_count": null,
   "id": "1f63d6f8-fd0b-4107-9ccd-862b9bb2be1d",
   "metadata": {},
   "outputs": [],
   "source": [
    "# Get a list of layers in the requested schema\n",
    "insp = sqla.inspect(conn)\n",
    "jrn_studies_tables = insp.get_table_names(schema='jrn_studies')"
   ]
  },
  {
   "cell_type": "code",
   "execution_count": 6,
   "id": "e5db0383-ed90-45b7-ad45-4cf74870e064",
   "metadata": {},
   "outputs": [
    {
     "data": {
      "text/plain": [
       "572"
      ]
     },
     "execution_count": 6,
     "metadata": {},
     "output_type": "execute_result"
    }
   ],
   "source": [
    "len(jrn_studies_tables)"
   ]
  },
  {
   "cell_type": "code",
   "execution_count": 13,
   "id": "c36f0ea2-43fb-495d-b66a-f69f5ea269d4",
   "metadata": {},
   "outputs": [],
   "source": [
    "# Get a list of layers in All_studies_gdb (since erased - jgeo is complete now)\n",
    "jrn_latestgdb_tables = insp.get_table_names(schema='latest_all_jornada_studies_gdb')"
   ]
  },
  {
   "cell_type": "code",
   "execution_count": 14,
   "id": "1970a115-4215-46bf-929a-7bff4f748697",
   "metadata": {},
   "outputs": [
    {
     "data": {
      "text/plain": [
       "599"
      ]
     },
     "execution_count": 14,
     "metadata": {},
     "output_type": "execute_result"
    }
   ],
   "source": [
    "len(jrn_latestgdb_tables)"
   ]
  },
  {
   "cell_type": "code",
   "execution_count": 16,
   "id": "f7953dc0-f01d-4d3e-848a-351af73a41b4",
   "metadata": {},
   "outputs": [
    {
     "data": {
      "text/plain": [
       "599"
      ]
     },
     "execution_count": 16,
     "metadata": {},
     "output_type": "execute_result"
    }
   ],
   "source": [
    "rexpression = '^jornadastudy_|^jonradastudy_|^study|^jornadaresearch_|^jornadareasearch_|^jornadareseach_'\n",
    "latest_ed = [re.sub(rexpression, 'prj', lay).lower() for lay in jrn_latestgdb_tables]\n",
    "len(latest_ed)"
   ]
  },
  {
   "cell_type": "code",
   "execution_count": 23,
   "id": "6aafce42-009e-42e1-b47b-d504fb5335e5",
   "metadata": {},
   "outputs": [
    {
     "data": {
      "text/plain": [
       "['boundary',\n",
       " 'cdrrcgrasscondition1858',\n",
       " 'cdrrcshrubpresence1858',\n",
       " 'cdrrcvegetation1938',\n",
       " 'cdrrcvegetation1998',\n",
       " 'cottonwoodspringsexcabations',\n",
       " 'cr_rg_point',\n",
       " 'cr_wellpt',\n",
       " 'davidtoledo',\n",
       " 'dcr_exc_point',\n",
       " 'exc',\n",
       " 'export2',\n",
       " 'export_output',\n",
       " 'gigapan_camera_loc',\n",
       " 'jer_historicalphotos',\n",
       " 'jergrasscondition1858',\n",
       " 'jershrubpresence1858',\n",
       " 'jersoil1963',\n",
       " 'jersoils1918',\n",
       " 'jervegetation1915',\n",
       " 'jervegetation1928',\n",
       " 'jervegetation1998',\n",
       " 'jornada_research_414_targetplants',\n",
       " 'jornada_study_422_pitfall_traps',\n",
       " 'jornadageomorphology',\n",
       " 'jornadavegetation1998',\n",
       " 'jornex_grids_poly',\n",
       " 'jornex_transects_line',\n",
       " 'jrnlandforms2000',\n",
       " 'jrnphysiography2000',\n",
       " 'jrnsoilparentmaterials2000',\n",
       " 'mongersamp',\n",
       " 'mongerunsam',\n",
       " 'nitrogen_storage_creosotebush_poly',\n",
       " 'npp_arthropods_1988_1994',\n",
       " 'npp_arthropods_1996_2000',\n",
       " 'playas_30',\n",
       " 'points',\n",
       " 'prj002_npp_precipitation_graduated_raingauge_monthly_',\n",
       " 'prj006_lightfootdavid_grasshoppers',\n",
       " 'prj007',\n",
       " 'prj086_smes_cryptogam_crust_quad',\n",
       " 'prj142',\n",
       " 'prj279',\n",
       " 'prj356',\n",
       " 'prj410_z_plotcoordinates',\n",
       " 'prj_158_lizard_comm2',\n",
       " 'prj_158_lizard_comm3',\n",
       " 'prj_158_lizard_comm_flow',\n",
       " 'prj_158_lizard_community',\n",
       " 'prj_349',\n",
       " 'prj_365_test',\n",
       " 'prj_403_crust_evolution_scrape',\n",
       " 'prjcsis_soilprobe',\n",
       " 'prjjer_dec17',\n",
       " 'prjplottrtmts',\n",
       " 'prjsdebrisgantrysoploecho',\n",
       " 'research_lter_transect_stations',\n",
       " 'soil_core_5m',\n",
       " 'soil_samples',\n",
       " 'temp_321',\n",
       " 'transect_plant_line_intercept',\n",
       " 'transects',\n",
       " 'watersheds_30',\n",
       " 'wwdt_1938']"
      ]
     },
     "execution_count": 23,
     "metadata": {},
     "output_type": "execute_result"
    }
   ],
   "source": [
    "# Get the set difference of the two databases\n",
    "tables2add = np.setdiff1d(latest_ed,jrn_studies_tables)\n",
    "# Exclude data tables\n",
    "tables2add_2 = [l for l in tables2add if '_data' not in l]\n",
    "tables2add_2\n",
    "# Everything below MIGHT be missing from jgeo.jrn_studies and should be manually\n",
    "# checked (I've checked now and these are all in jgeo.jrn_studies except for a few)"
   ]
  },
  {
   "cell_type": "markdown",
   "id": "07a94d08-12ee-4ddf-9970-795675a95d1b",
   "metadata": {},
   "source": [
    "# Stuff I missed from the latest gdb\n",
    "\n",
    "Below are layers in the latest gdb, but not found in jrn_studies. This is excluding any data\n",
    "tables.\n",
    "\n",
    "davidtoledo\n",
    "exc\n",
    "mongersamp\n",
    "mongerunsam\n",
    "prj410_z_plotcoordinates\n",
    "research_lter_transect_stations\n",
    "\n",
    "UPDATE = these have been added to \"unsorted schema\" and \"jrn_studies\" if applicable"
   ]
  }
 ],
 "metadata": {
  "kernelspec": {
   "display_name": "Python 3 (ipykernel)",
   "language": "python",
   "name": "python3"
  },
  "language_info": {
   "codemirror_mode": {
    "name": "ipython",
    "version": 3
   },
   "file_extension": ".py",
   "mimetype": "text/x-python",
   "name": "python",
   "nbconvert_exporter": "python",
   "pygments_lexer": "ipython3",
   "version": "3.8.15"
  }
 },
 "nbformat": 4,
 "nbformat_minor": 5
}

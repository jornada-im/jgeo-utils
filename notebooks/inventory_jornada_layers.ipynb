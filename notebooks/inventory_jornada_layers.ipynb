{
 "cells": [
  {
   "cell_type": "markdown",
   "metadata": {},
   "source": [
    "# Jornada layer inventory\n",
    "\n",
    "This script generates an inventory of jgeo layers matched with origin layers from\n",
    "Jornada file geodatabases (.gdb files)"
   ]
  },
  {
   "cell_type": "code",
   "execution_count": 1,
   "metadata": {},
   "outputs": [],
   "source": [
    "# Import sqlalchemy and pandas\n",
    "import sqlalchemy as sqla\n",
    "import pandas as pd\n",
    "import fiona\n",
    "import os\n",
    "\n",
    "# Get credentials for the jgeo database\n",
    "import sys\n",
    "sys.path.append('/home/greg/admin/')\n",
    "import jgeo_cred as dbcred\n",
    "\n",
    "# get a connection to jgeo\n",
    "conn = sqla.create_engine(\"postgresql+psycopg2://{0}:{1}@{2}:5432/{3}\".format(\n",
    "    dbcred.user, dbcred.pwd, dbcred.host, dbcred.db))\n",
    "# Where are the Jornada geodatabase copies\n",
    "jgdb_path = '/home/greg/data/rawdata/JornadaGIS_copies'\n"
   ]
  },
  {
   "cell_type": "code",
   "execution_count": 2,
   "metadata": {},
   "outputs": [],
   "source": [
    "# Get a list of jgeo layers in the requested schemas\n",
    "insp = sqla.inspect(conn)\n",
    "jgeo_tables = []\n",
    "for s in ['jrn_studies', 'biogeography_and_soils', 'bounds_and_structures',\n",
    "    'non_research_layers_gdb', 'physical_geography', 'sensor_networks', 'unsorted']:\n",
    "    table_names = insp.get_table_names(schema=s)\n",
    "    df = pd.DataFrame({'jgeo_schema': s, 'jgeo_table_name': table_names})\n",
    "    jgeo_tables.append(df)\n",
    "\n",
    "jgeo_tables = pd.concat(jgeo_tables)\n"
   ]
  },
  {
   "cell_type": "code",
   "execution_count": 3,
   "metadata": {},
   "outputs": [
    {
     "name": "stdout",
     "output_type": "stream",
     "text": [
      "(664, 2)\n"
     ]
    },
    {
     "data": {
      "text/html": [
       "<div>\n",
       "<style scoped>\n",
       "    .dataframe tbody tr th:only-of-type {\n",
       "        vertical-align: middle;\n",
       "    }\n",
       "\n",
       "    .dataframe tbody tr th {\n",
       "        vertical-align: top;\n",
       "    }\n",
       "\n",
       "    .dataframe thead th {\n",
       "        text-align: right;\n",
       "    }\n",
       "</style>\n",
       "<table border=\"1\" class=\"dataframe\">\n",
       "  <thead>\n",
       "    <tr style=\"text-align: right;\">\n",
       "      <th></th>\n",
       "      <th>jgeo_schema</th>\n",
       "      <th>jgeo_table_name</th>\n",
       "    </tr>\n",
       "  </thead>\n",
       "  <tbody>\n",
       "    <tr>\n",
       "      <th>8</th>\n",
       "      <td>unsorted</td>\n",
       "      <td>npp_sites_study011</td>\n",
       "    </tr>\n",
       "    <tr>\n",
       "      <th>9</th>\n",
       "      <td>unsorted</td>\n",
       "      <td>studiesbuf50_26nov2014</td>\n",
       "    </tr>\n",
       "    <tr>\n",
       "      <th>10</th>\n",
       "      <td>unsorted</td>\n",
       "      <td>research_lter_transect_stations</td>\n",
       "    </tr>\n",
       "    <tr>\n",
       "      <th>11</th>\n",
       "      <td>unsorted</td>\n",
       "      <td>Soilmu_a_nm690_from_jgdb</td>\n",
       "    </tr>\n",
       "    <tr>\n",
       "      <th>12</th>\n",
       "      <td>unsorted</td>\n",
       "      <td>Soilmu_a_nm719_from_jgdb</td>\n",
       "    </tr>\n",
       "  </tbody>\n",
       "</table>\n",
       "</div>"
      ],
      "text/plain": [
       "   jgeo_schema                  jgeo_table_name\n",
       "8     unsorted               npp_sites_study011\n",
       "9     unsorted           studiesbuf50_26nov2014\n",
       "10    unsorted  research_lter_transect_stations\n",
       "11    unsorted         Soilmu_a_nm690_from_jgdb\n",
       "12    unsorted         Soilmu_a_nm719_from_jgdb"
      ]
     },
     "execution_count": 3,
     "metadata": {},
     "output_type": "execute_result"
    }
   ],
   "source": [
    "print(jgeo_tables.shape)\n",
    "jgeo_tables.tail()"
   ]
  },
  {
   "cell_type": "code",
   "execution_count": 4,
   "metadata": {},
   "outputs": [],
   "source": [
    "# Get a list of layers in the requested jornada geodatabases\n",
    "jgdb_tables = []\n",
    "for g in ['All_studies_JornadaGDB_03_30_21.gdb',\n",
    "          'Infrastructure2_21Sep15.gdb',\n",
    "          'CSIS_Study413_27Aug13_Copy.gdb',\n",
    "          'NonResearchLyrs_17Sep14.gdb']:\n",
    "    inputFile = os.path.join(jgdb_path, g)\n",
    "    table_names = fiona.listlayers(inputFile)\n",
    "    # Filter out data tables (non-spatial)\n",
    "    table_names = [t for t in table_names if '_data' not in t]\n",
    "    df = pd.DataFrame({'jornada_fgdb': g, 'jgdb_table_name': table_names})\n",
    "    jgdb_tables.append(df)\n",
    "\n",
    "jgdb_tables = pd.concat(jgdb_tables)"
   ]
  },
  {
   "cell_type": "code",
   "execution_count": 5,
   "metadata": {},
   "outputs": [
    {
     "name": "stdout",
     "output_type": "stream",
     "text": [
      "(659, 2)\n"
     ]
    },
    {
     "data": {
      "text/html": [
       "<div>\n",
       "<style scoped>\n",
       "    .dataframe tbody tr th:only-of-type {\n",
       "        vertical-align: middle;\n",
       "    }\n",
       "\n",
       "    .dataframe tbody tr th {\n",
       "        vertical-align: top;\n",
       "    }\n",
       "\n",
       "    .dataframe thead th {\n",
       "        text-align: right;\n",
       "    }\n",
       "</style>\n",
       "<table border=\"1\" class=\"dataframe\">\n",
       "  <thead>\n",
       "    <tr style=\"text-align: right;\">\n",
       "      <th></th>\n",
       "      <th>jornada_fgdb</th>\n",
       "      <th>jgdb_table_name</th>\n",
       "    </tr>\n",
       "  </thead>\n",
       "  <tbody>\n",
       "    <tr>\n",
       "      <th>0</th>\n",
       "      <td>All_studies_JornadaGDB_03_30_21.gdb</td>\n",
       "      <td>JornadaStudy_009_animal_transects</td>\n",
       "    </tr>\n",
       "    <tr>\n",
       "      <th>1</th>\n",
       "      <td>All_studies_JornadaGDB_03_30_21.gdb</td>\n",
       "      <td>JornadaStudy_010_termite_bait</td>\n",
       "    </tr>\n",
       "    <tr>\n",
       "      <th>2</th>\n",
       "      <td>All_studies_JornadaGDB_03_30_21.gdb</td>\n",
       "      <td>JornadaStudy_012_transect_hydroprobe_tubes</td>\n",
       "    </tr>\n",
       "    <tr>\n",
       "      <th>3</th>\n",
       "      <td>All_studies_JornadaGDB_03_30_21.gdb</td>\n",
       "      <td>JornadaStudy_013_npp_hydroprobe_tubes</td>\n",
       "    </tr>\n",
       "    <tr>\n",
       "      <th>4</th>\n",
       "      <td>All_studies_JornadaGDB_03_30_21.gdb</td>\n",
       "      <td>JornadaStudy_120_boundary_fence_intercept_plan...</td>\n",
       "    </tr>\n",
       "  </tbody>\n",
       "</table>\n",
       "</div>"
      ],
      "text/plain": [
       "                          jornada_fgdb  \\\n",
       "0  All_studies_JornadaGDB_03_30_21.gdb   \n",
       "1  All_studies_JornadaGDB_03_30_21.gdb   \n",
       "2  All_studies_JornadaGDB_03_30_21.gdb   \n",
       "3  All_studies_JornadaGDB_03_30_21.gdb   \n",
       "4  All_studies_JornadaGDB_03_30_21.gdb   \n",
       "\n",
       "                                     jgdb_table_name  \n",
       "0                  JornadaStudy_009_animal_transects  \n",
       "1                      JornadaStudy_010_termite_bait  \n",
       "2         JornadaStudy_012_transect_hydroprobe_tubes  \n",
       "3              JornadaStudy_013_npp_hydroprobe_tubes  \n",
       "4  JornadaStudy_120_boundary_fence_intercept_plan...  "
      ]
     },
     "execution_count": 5,
     "metadata": {},
     "output_type": "execute_result"
    }
   ],
   "source": [
    "print(jgdb_tables.shape)\n",
    "jgdb_tables.head()"
   ]
  },
  {
   "cell_type": "code",
   "execution_count": 6,
   "metadata": {},
   "outputs": [],
   "source": [
    "# Get the probable name used in jgeo (there have been a few manual changes) and\n",
    "# add as a new column\n",
    "import re\n",
    "rexpression = '^jornadastudy_|^jonradastudy_|^study|^jornadaresearch_|^jornadareasearch_|^jornadareseach_'\n",
    "jgdb_tables['jgdb_name_in_jgeo'] = [re.sub(rexpression, 'prj', lay.lower()) for lay in jgdb_tables.jgdb_table_name]\n"
   ]
  },
  {
   "cell_type": "code",
   "execution_count": 7,
   "metadata": {},
   "outputs": [],
   "source": [
    "# Create the inventory by merging the jgeo and jgdb tables on table name (probable for jgdb)\n",
    "output_inv = pd.merge(jgeo_tables, jgdb_tables, left_on='jgeo_table_name', right_on='jgdb_name_in_jgeo', how='outer')"
   ]
  },
  {
   "cell_type": "code",
   "execution_count": 9,
   "metadata": {},
   "outputs": [],
   "source": [
    "outdir = '/home/greg/data/rawdata/JornadaGeospatial/'\n",
    "output_inv.to_csv(os.path.join(outdir, 'inventory_jornada_layers_raw.csv'))"
   ]
  }
 ],
 "metadata": {
  "kernelspec": {
   "display_name": "jgeo",
   "language": "python",
   "name": "python3"
  },
  "language_info": {
   "codemirror_mode": {
    "name": "ipython",
    "version": 3
   },
   "file_extension": ".py",
   "mimetype": "text/x-python",
   "name": "python",
   "nbconvert_exporter": "python",
   "pygments_lexer": "ipython3",
   "version": "3.8.16"
  }
 },
 "nbformat": 4,
 "nbformat_minor": 2
}

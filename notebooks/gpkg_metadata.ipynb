{
 "cells": [
  {
   "cell_type": "code",
   "execution_count": 2,
   "id": "d7b5cd50-b44a-47d1-a230-df887f3881fb",
   "metadata": {},
   "outputs": [],
   "source": [
    "import pandas as pd\n",
    "import sys\n",
    "sys.path.append('/home/greg/GitHub/jgeo-utils/')\n",
    "import jgeo_py.geopackages as gp\n",
    "import fiona\n",
    "import glob\n",
    "import os\n",
    "\n",
    "# Path to the jgeo root\n",
    "jgeo_path = '/home/greg/data/rawdata/JornadaGeospatial/'"
   ]
  },
  {
   "cell_type": "markdown",
   "id": "fb6253cd",
   "metadata": {},
   "source": [
    "## Collect metadata for JornadaGeosp geopackages\n",
    "\n",
    "This creates a metadata table for thematic geopackages. Probably not too useful now."
   ]
  },
  {
   "cell_type": "code",
   "execution_count": 3,
   "id": "bfef804c",
   "metadata": {},
   "outputs": [
    {
     "ename": "DriverError",
     "evalue": "JornadaVegetation.gpkg: No such file or directory",
     "output_type": "error",
     "traceback": [
      "\u001b[0;31m---------------------------------------------------------------------------\u001b[0m",
      "\u001b[0;31mCPLE_OpenFailedError\u001b[0m                      Traceback (most recent call last)",
      "File \u001b[0;32mfiona/_shim.pyx:83\u001b[0m, in \u001b[0;36mfiona._shim.gdal_open_vector\u001b[0;34m()\u001b[0m\n",
      "File \u001b[0;32mfiona/_err.pyx:270\u001b[0m, in \u001b[0;36mfiona._err.exc_wrap_pointer\u001b[0;34m()\u001b[0m\n",
      "\u001b[0;31mCPLE_OpenFailedError\u001b[0m: JornadaVegetation.gpkg: No such file or directory",
      "\nDuring handling of the above exception, another exception occurred:\n",
      "\u001b[0;31mDriverError\u001b[0m                               Traceback (most recent call last)",
      "Cell \u001b[0;32mIn[3], line 47\u001b[0m\n\u001b[1;32m     38\u001b[0m pkg_tags \u001b[38;5;241m=\u001b[39m [\n\u001b[1;32m     39\u001b[0m     \u001b[38;5;124m'\u001b[39m\u001b[38;5;124mJornada Basin, JornadaVegetation, vegetation, biota\u001b[39m\u001b[38;5;124m'\u001b[39m,\n\u001b[1;32m     40\u001b[0m     \u001b[38;5;124m'\u001b[39m\u001b[38;5;124mJornada Basin, JornadaBounds&Structures, boundaries, infrastructure\u001b[39m\u001b[38;5;124m'\u001b[39m,\n\u001b[1;32m     41\u001b[0m     \u001b[38;5;124m'\u001b[39m\u001b[38;5;124mJornada Basin, JornadaMonitoringStations, environmental monitoring, instruments\u001b[39m\u001b[38;5;124m'\u001b[39m,\n\u001b[1;32m     42\u001b[0m     \u001b[38;5;124m'\u001b[39m\u001b[38;5;124mJornada Basin, JornadaLandforms&Soil, landforms, geology, soil\u001b[39m\u001b[38;5;124m'\u001b[39m,\n\u001b[1;32m     43\u001b[0m     \u001b[38;5;124m'\u001b[39m\u001b[38;5;124mJornada Basin, JornadaMisc, miscellaneous, unknown\u001b[39m\u001b[38;5;124m'\u001b[39m]\n\u001b[1;32m     46\u001b[0m \u001b[38;5;28;01mfor\u001b[39;00m i, gpkg \u001b[38;5;129;01min\u001b[39;00m \u001b[38;5;28menumerate\u001b[39m(gpkgs):\n\u001b[0;32m---> 47\u001b[0m     mdf \u001b[38;5;241m=\u001b[39m \u001b[43mgp\u001b[49m\u001b[38;5;241;43m.\u001b[39;49m\u001b[43mgpkg_metadata_table\u001b[49m\u001b[43m(\u001b[49m\u001b[43mgpkg\u001b[49m\u001b[43m,\u001b[49m\u001b[43mpkg_abstracts\u001b[49m\u001b[43m[\u001b[49m\u001b[43mi\u001b[49m\u001b[43m]\u001b[49m\u001b[43m,\u001b[49m\n\u001b[1;32m     48\u001b[0m \u001b[43m        \u001b[49m\u001b[43mpkg_tags\u001b[49m\u001b[43m[\u001b[49m\u001b[43mi\u001b[49m\u001b[43m]\u001b[49m\u001b[43m,\u001b[49m\u001b[43m \u001b[49m\u001b[43mgdb_list\u001b[49m\u001b[38;5;241;43m=\u001b[39;49m\u001b[43m[\u001b[49m\u001b[43mall_fgdb\u001b[49m\u001b[43m,\u001b[49m\u001b[43minfra_fgdb\u001b[49m\u001b[43m]\u001b[49m\u001b[43m)\u001b[49m\n\u001b[1;32m     49\u001b[0m     \u001b[38;5;28;01mif\u001b[39;00m i \u001b[38;5;241m==\u001b[39m \u001b[38;5;241m0\u001b[39m:\n\u001b[1;32m     50\u001b[0m         metadata \u001b[38;5;241m=\u001b[39m mdf\n",
      "File \u001b[0;32m~/GitHub/jgeo-utils/jgeo_py/geopackages.py:88\u001b[0m, in \u001b[0;36mgpkg_metadata_table\u001b[0;34m(gpkg_path, gpkg_abstract, gpkg_tags, gdb_list, package_name)\u001b[0m\n\u001b[1;32m     85\u001b[0m     package_name \u001b[38;5;241m=\u001b[39m gpkg_fname\u001b[38;5;241m.\u001b[39msplit(\u001b[38;5;124m'\u001b[39m\u001b[38;5;124m.\u001b[39m\u001b[38;5;124m'\u001b[39m)[\u001b[38;5;241m0\u001b[39m]\n\u001b[1;32m     87\u001b[0m metadata \u001b[38;5;241m=\u001b[39m []\n\u001b[0;32m---> 88\u001b[0m gpkg_layers \u001b[38;5;241m=\u001b[39m \u001b[43mfiona\u001b[49m\u001b[38;5;241;43m.\u001b[39;49m\u001b[43mlistlayers\u001b[49m\u001b[43m(\u001b[49m\u001b[43mgpkg_path\u001b[49m\u001b[43m)\u001b[49m\n\u001b[1;32m     90\u001b[0m \u001b[38;5;28;01mfor\u001b[39;00m l \u001b[38;5;129;01min\u001b[39;00m gpkg_layers:\n\u001b[1;32m     91\u001b[0m     \u001b[38;5;28;01mwith\u001b[39;00m fiona\u001b[38;5;241m.\u001b[39mopen(gpkg_path, layer\u001b[38;5;241m=\u001b[39ml) \u001b[38;5;28;01mas\u001b[39;00m src:\n",
      "File \u001b[0;32m~/data/miniconda3/envs/jgeo/lib/python3.8/site-packages/fiona/env.py:407\u001b[0m, in \u001b[0;36mensure_env_with_credentials.<locals>.wrapper\u001b[0;34m(*args, **kwargs)\u001b[0m\n\u001b[1;32m    405\u001b[0m \u001b[38;5;28;01mwith\u001b[39;00m Env\u001b[38;5;241m.\u001b[39mfrom_defaults(session\u001b[38;5;241m=\u001b[39msession):\n\u001b[1;32m    406\u001b[0m     log\u001b[38;5;241m.\u001b[39mdebug(\u001b[38;5;124m\"\u001b[39m\u001b[38;5;124mCredentialized: \u001b[39m\u001b[38;5;132;01m{!r}\u001b[39;00m\u001b[38;5;124m\"\u001b[39m\u001b[38;5;241m.\u001b[39mformat(getenv()))\n\u001b[0;32m--> 407\u001b[0m     \u001b[38;5;28;01mreturn\u001b[39;00m \u001b[43mf\u001b[49m\u001b[43m(\u001b[49m\u001b[38;5;241;43m*\u001b[39;49m\u001b[43margs\u001b[49m\u001b[43m,\u001b[49m\u001b[43m \u001b[49m\u001b[38;5;241;43m*\u001b[39;49m\u001b[38;5;241;43m*\u001b[39;49m\u001b[43mkwargs\u001b[49m\u001b[43m)\u001b[49m\n",
      "File \u001b[0;32m~/data/miniconda3/envs/jgeo/lib/python3.8/site-packages/fiona/__init__.py:344\u001b[0m, in \u001b[0;36mlistlayers\u001b[0;34m(fp, vfs)\u001b[0m\n\u001b[1;32m    341\u001b[0m \u001b[38;5;28;01melse\u001b[39;00m:\n\u001b[1;32m    342\u001b[0m     pobj \u001b[38;5;241m=\u001b[39m parse_path(fp)\n\u001b[0;32m--> 344\u001b[0m \u001b[38;5;28;01mreturn\u001b[39;00m \u001b[43m_listlayers\u001b[49m\u001b[43m(\u001b[49m\u001b[43mvsi_path\u001b[49m\u001b[43m(\u001b[49m\u001b[43mpobj\u001b[49m\u001b[43m)\u001b[49m\u001b[43m)\u001b[49m\n",
      "File \u001b[0;32mfiona/ogrext.pyx:1512\u001b[0m, in \u001b[0;36mfiona.ogrext._listlayers\u001b[0;34m()\u001b[0m\n",
      "File \u001b[0;32mfiona/_shim.pyx:90\u001b[0m, in \u001b[0;36mfiona._shim.gdal_open_vector\u001b[0;34m()\u001b[0m\n",
      "\u001b[0;31mDriverError\u001b[0m: JornadaVegetation.gpkg: No such file or directory"
     ]
    }
   ],
   "source": [
    "#import importlib\n",
    "#importlib.reload(gp)\n",
    "all_fgdb = 'All_studies_JornadaGDB_03_30_21.gdb'\n",
    "infra_fgdb = 'Infrastructure2_21Sep15.gdb'\n",
    "\n",
    "gpkgs = ['JornadaVegetation.gpkg',\n",
    "    'JornadaBounds&Structures.gpkg',\n",
    "    'JornadaMonitoringStations.gpkg',\n",
    "    'JornadaLandforms&Soil.gpkg',\n",
    "    'JornadaMisc.gpkg']\n",
    "pkg_abstracts = [\n",
    "    'This layer is part of the JornadaVegetation geopackage - a '\n",
    "        'collection of Jornada Basin vegetation cover'\n",
    "        'spatial data layers. For more information visit '\n",
    "        'https://lter.jornada.nmsu.edu/spatial-data/ or contact '\n",
    "        'jornada.data@nmsu.edu.',\n",
    "    'This layer is part of the JornadaBounds&Structures geopackage - a '\n",
    "        'collection of Jornada Basin boundaries and '\n",
    "        'infrastructure spatial data layers. For more information visit '\n",
    "        'https://lter.jornada.nmsu.edu/spatial-data/ or contact '\n",
    "        'jornada.data@nmsu.edu.',\n",
    "    'This layer is part of the JornadaMonitoringStations geopackage - a '\n",
    "        'collection of Jornada Basin spatial data layers describing environmental '\n",
    "        'monitoring instruments and systems. For more information visit '\n",
    "        'https://lter.jornada.nmsu.edu/spatial-data/ or contact '\n",
    "        'jornada.data@nmsu.edu.',\n",
    "    'This layer is part of the JornadaLandforms&Soil geopackage - a '\n",
    "        'collection of Jornada Basin landform, geology, and '\n",
    "        'soil spatial data layers. For more information visit '\n",
    "        'https://lter.jornada.nmsu.edu or contact '\n",
    "        'jornada.data@nmsu.edu.',\n",
    "    'This layer is part of the JornadaMisc geopackage - a '\n",
    "        'collection of miscellaneous Jornada Basin '\n",
    "        'spatial data layers. For more information visit '\n",
    "        'https://lter.jornada.nmsu.edu or contact '\n",
    "        'jornada.data@nmsu.edu.']\n",
    "\n",
    "pkg_tags = [\n",
    "    'Jornada Basin, JornadaVegetation, vegetation, biota',\n",
    "    'Jornada Basin, JornadaBounds&Structures, boundaries, infrastructure',\n",
    "    'Jornada Basin, JornadaMonitoringStations, environmental monitoring, instruments',\n",
    "    'Jornada Basin, JornadaLandforms&Soil, landforms, geology, soil',\n",
    "    'Jornada Basin, JornadaMisc, miscellaneous, unknown']\n",
    "\n",
    "\n",
    "for i, gpkg in enumerate(gpkgs):\n",
    "    mdf = gp.gpkg_metadata_table(gpkg,pkg_abstracts[i],\n",
    "        pkg_tags[i], gdb_list=[all_fgdb,infra_fgdb])\n",
    "    if i == 0:\n",
    "        metadata = mdf\n",
    "    else:\n",
    "        metadata = pd.concat([metadata, mdf])\n"
   ]
  },
  {
   "cell_type": "code",
   "execution_count": 12,
   "id": "000e8f29",
   "metadata": {},
   "outputs": [],
   "source": [
    "# Do it for the JornadaResearchProject gpkgs\n",
    "gpkgs = glob.glob(os.path.join(jgeo_root, 'jrn_studies_gpkg', '*.gpkg')\n",
    "for i, gpkg in enumerate(gpkgs):\n",
    "    studyid = gpkg.split('/')[1][3:6]\n",
    "    pkg_abstract = ('This layer is part of the geopackage (or featureLayerCollection) '\n",
    "        'for Jornada research project {0} and is part of the '\n",
    "        'JornadaResearchProjects collection. For more information visit '\n",
    "        'https://lter.jornada.nmsu.edu or contact '\n",
    "        'jornada.data@nmsu.edu.'.format(studyid))\n",
    "    pkg_tags = 'Jornada Basin, JornadaResearchProjects, study {0}, research project'.format(studyid)\n",
    "    mdf = gp.gpkg_metadata_table(gpkg, pkg_abstract,\n",
    "        pkg_tags, gdb_list=[all_fgdb,infra_fgdb],\n",
    "        package_name='JornadaResearchProjects')\n",
    "    if i == 0:\n",
    "        metadata_prj = mdf\n",
    "    else:\n",
    "        metadata_prj = pd.concat([metadata_prj, mdf])\n"
   ]
  },
  {
   "cell_type": "code",
   "execution_count": 13,
   "id": "a1006ca2",
   "metadata": {},
   "outputs": [],
   "source": [
    "# Now merge and export the metadata\n",
    "metadata_out = pd.concat([metadata, metadata_prj])\n",
    "metadata_out.to_csv(os.path.join('metadata','jgpkg_metadata_20230503.csv', index=False)"
   ]
  }
 ],
 "metadata": {
  "kernelspec": {
   "display_name": "Python 3 (ipykernel)",
   "language": "python",
   "name": "python3"
  },
  "language_info": {
   "codemirror_mode": {
    "name": "ipython",
    "version": 3
   },
   "file_extension": ".py",
   "mimetype": "text/x-python",
   "name": "python",
   "nbconvert_exporter": "python",
   "pygments_lexer": "ipython3",
   "version": "3.8.15"
  }
 },
 "nbformat": 4,
 "nbformat_minor": 5
}

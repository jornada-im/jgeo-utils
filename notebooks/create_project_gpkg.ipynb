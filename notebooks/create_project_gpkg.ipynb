{
 "cells": [
  {
   "cell_type": "code",
   "execution_count": 17,
   "id": "d7b5cd50-b44a-47d1-a230-df887f3881fb",
   "metadata": {},
   "outputs": [],
   "source": [
    "import pandas as pd\n",
    "import fiona\n",
    "import os\n",
    "import sys\n",
    "sys.path.append('/home/greg/GitHub/jgeo-utils/')\n",
    "import jgeo_py.geopackages as gp\n",
    "\n",
    "# Path to the jgeo root\n",
    "jgeo_path = '/home/greg/data/rawdata/JornadaGeospatial/'\n",
    "jgdb_path = '/home/greg/data/rawdata/JornadaGIS_copies/'"
   ]
  },
  {
   "cell_type": "markdown",
   "id": "98edd8f3",
   "metadata": {},
   "source": [
    "## Create a geopackage for each Jornada project\n",
    "\n",
    "This notebook takes layers from the \"All_studies_JornadaGDB_03_30_21.gdb\" from the Jornada GIS group and inserts them into geopackages for each project ID. Since not all layers have the project ID number in them, there is some cleanup required after.\n",
    "\n",
    "This could be adapted to jgeo db."
   ]
  },
  {
   "cell_type": "code",
   "execution_count": 19,
   "id": "0df717f5-1751-4020-8498-82dab4466fd5",
   "metadata": {},
   "outputs": [],
   "source": [
    "# Get a list of all layers in the geodatabase\n",
    "all_gdb = jgdb_path + 'All_studies_JornadaGDB_03_30_21.gdb'\n",
    "all_gdb_alt = jgdb_path + 'All_studies_JornadaGDB.gdb'\n",
    "all_l = fiona.listlayers(all_gdb)\n",
    "all_l_alt = fiona.listlayers(all_gdb_alt)\n"
   ]
  },
  {
   "cell_type": "code",
   "execution_count": 20,
   "id": "b18263b7-3a1e-49f4-a491-f53b8cad6429",
   "metadata": {
    "tags": []
   },
   "outputs": [],
   "source": [
    "#all_l"
   ]
  },
  {
   "cell_type": "code",
   "execution_count": 21,
   "id": "ec4a13bf",
   "metadata": {},
   "outputs": [
    {
     "name": "stdout",
     "output_type": "stream",
     "text": [
      "['JRNPhysiography2000', 'JRNLandforms2000', 'JRNSoilParentMaterials2000', 'JERSoil1963', 'JERSoils1918', 'CDRRCVegetation1998', 'CDRRCVegetation1938', 'CDRRCGrassCondition1858', 'CDRRCShrubPresence1858', 'JERGrassCondition1858', 'JERShrubPresence1858', 'JERVegetation1915', 'JERVegetation1928', 'JERVegetation1998', 'JornadaVegetation1998', 'JornadaResearch_410_z_PlotCoordinates', 'wwdt_1938', 'NPP_Arthropods_1988_1994', 'NPP_arthropods_1996_2000']\n",
      "600\n"
     ]
    },
    {
     "data": {
      "text/plain": [
       "581"
      ]
     },
     "execution_count": 21,
     "metadata": {},
     "output_type": "execute_result"
    }
   ],
   "source": [
    "# Create an exclude list because their layer names incorrectly match\n",
    "# the study ids. This also takes out some empties like CDRRC veg\n",
    "exclude = [lay for lay in all_l if any(z in lay for z in \n",
    "    ['CDRRC', 'JERS', 'JERG', 'JERV', '200', 'NPP_Arth','JornadaVegetation1998',\n",
    "    '410_z_Plot', 'wwdt'])]\n",
    "print(exclude)\n",
    "print(len(all_l))\n",
    "len([lay for lay in all_l if lay not in exclude])"
   ]
  },
  {
   "cell_type": "code",
   "execution_count": null,
   "id": "404b82e0",
   "metadata": {
    "tags": []
   },
   "outputs": [],
   "source": [
    "# Now loop through study numbers, get matching layers (-exclude)\n",
    "# and create a geopackage for each study\n",
    "all_study = [lay for lay in all_l if lay not in exclude]\n",
    "for i in range(1, 2):\n",
    "    # Pad study number and get a list of all matching layers\n",
    "    study = str(i).zfill(3)\n",
    "    print(\"Study \" + study)\n",
    "    layers = [lay for lay in all_study if study in lay]\n",
    "    # If the layer list is >0 make a geopackage and populate it\n",
    "    if len(layers) > 0:\n",
    "        gpkgname = os.path.join(jgeo_path, 'jrn_studies_gpkg', 'prj' + study +'.gpkg')\n",
    "        result = gp.gdb_to_gpkg(all_gdb, layers, gpkgname)\n",
    "        # Concatenate result logs into a dataframe\n",
    "        if i == 1:\n",
    "            prj_log = result\n",
    "        else:\n",
    "            prj_log = pd.concat([prj_log, result])\n",
    "    else:\n",
    "        print('  no layers to add')\n",
    "# output the result log\n",
    "prj_log.to_csv(os.path.join(jgeo_path, 'jrn_studies_gpkg', 'gdb_to gpkg_log_20230503.csv'))"
   ]
  },
  {
   "cell_type": "code",
   "execution_count": 11,
   "id": "65da4fa5-e644-458b-b0b6-6952149eaf9b",
   "metadata": {},
   "outputs": [
    {
     "name": "stdout",
     "output_type": "stream",
     "text": [
      "(565, 7)\n",
      "600\n"
     ]
    },
    {
     "data": {
      "text/html": [
       "<div>\n",
       "<style scoped>\n",
       "    .dataframe tbody tr th:only-of-type {\n",
       "        vertical-align: middle;\n",
       "    }\n",
       "\n",
       "    .dataframe tbody tr th {\n",
       "        vertical-align: top;\n",
       "    }\n",
       "\n",
       "    .dataframe thead th {\n",
       "        text-align: right;\n",
       "    }\n",
       "</style>\n",
       "<table border=\"1\" class=\"dataframe\">\n",
       "  <thead>\n",
       "    <tr style=\"text-align: right;\">\n",
       "      <th></th>\n",
       "      <th>origin_gdb</th>\n",
       "      <th>layer_name</th>\n",
       "      <th>geom_type</th>\n",
       "      <th>n_features</th>\n",
       "      <th>added_to_gpkg</th>\n",
       "      <th>gpkg_fname</th>\n",
       "      <th>dt_added</th>\n",
       "    </tr>\n",
       "  </thead>\n",
       "  <tbody>\n",
       "    <tr>\n",
       "      <th>0</th>\n",
       "      <td>../JornadaGIS_copies/All_studies_JornadaGDB_03...</td>\n",
       "      <td>JornadaStudy_001_hydrology_runoff_drums</td>\n",
       "      <td>MultiPolygon</td>\n",
       "      <td>21</td>\n",
       "      <td>True</td>\n",
       "      <td>Jornada_prj_gpkg/prj001.gpkg</td>\n",
       "      <td>2022-12-09 17:15:43.052570</td>\n",
       "    </tr>\n",
       "    <tr>\n",
       "      <th>1</th>\n",
       "      <td>../JornadaGIS_copies/All_studies_JornadaGDB_03...</td>\n",
       "      <td>JornadaStudy_001_hydrology_runoff_exclosures</td>\n",
       "      <td>MultiPolygon</td>\n",
       "      <td>1</td>\n",
       "      <td>True</td>\n",
       "      <td>Jornada_prj_gpkg/prj001.gpkg</td>\n",
       "      <td>2022-12-09 17:15:43.384116</td>\n",
       "    </tr>\n",
       "    <tr>\n",
       "      <th>2</th>\n",
       "      <td>../JornadaGIS_copies/All_studies_JornadaGDB_03...</td>\n",
       "      <td>JornadaStudy_001_hydrology_runoff_gps_points</td>\n",
       "      <td>Point</td>\n",
       "      <td>142</td>\n",
       "      <td>True</td>\n",
       "      <td>Jornada_prj_gpkg/prj001.gpkg</td>\n",
       "      <td>2022-12-09 17:15:43.760363</td>\n",
       "    </tr>\n",
       "    <tr>\n",
       "      <th>3</th>\n",
       "      <td>../JornadaGIS_copies/All_studies_JornadaGDB_03...</td>\n",
       "      <td>JornadaStudy_001_hydrology_runoff_plates</td>\n",
       "      <td>MultiPolygon</td>\n",
       "      <td>21</td>\n",
       "      <td>True</td>\n",
       "      <td>Jornada_prj_gpkg/prj001.gpkg</td>\n",
       "      <td>2022-12-09 17:15:44.127417</td>\n",
       "    </tr>\n",
       "    <tr>\n",
       "      <th>4</th>\n",
       "      <td>../JornadaGIS_copies/All_studies_JornadaGDB_03...</td>\n",
       "      <td>JornadaStudy_001_hydrology_runoff_plots</td>\n",
       "      <td>MultiPolygon</td>\n",
       "      <td>21</td>\n",
       "      <td>True</td>\n",
       "      <td>Jornada_prj_gpkg/prj001.gpkg</td>\n",
       "      <td>2022-12-09 17:15:44.516192</td>\n",
       "    </tr>\n",
       "  </tbody>\n",
       "</table>\n",
       "</div>"
      ],
      "text/plain": [
       "                                          origin_gdb  \\\n",
       "0  ../JornadaGIS_copies/All_studies_JornadaGDB_03...   \n",
       "1  ../JornadaGIS_copies/All_studies_JornadaGDB_03...   \n",
       "2  ../JornadaGIS_copies/All_studies_JornadaGDB_03...   \n",
       "3  ../JornadaGIS_copies/All_studies_JornadaGDB_03...   \n",
       "4  ../JornadaGIS_copies/All_studies_JornadaGDB_03...   \n",
       "\n",
       "                                     layer_name     geom_type n_features  \\\n",
       "0       JornadaStudy_001_hydrology_runoff_drums  MultiPolygon         21   \n",
       "1  JornadaStudy_001_hydrology_runoff_exclosures  MultiPolygon          1   \n",
       "2  JornadaStudy_001_hydrology_runoff_gps_points         Point        142   \n",
       "3      JornadaStudy_001_hydrology_runoff_plates  MultiPolygon         21   \n",
       "4       JornadaStudy_001_hydrology_runoff_plots  MultiPolygon         21   \n",
       "\n",
       "  added_to_gpkg                    gpkg_fname                   dt_added  \n",
       "0          True  Jornada_prj_gpkg/prj001.gpkg 2022-12-09 17:15:43.052570  \n",
       "1          True  Jornada_prj_gpkg/prj001.gpkg 2022-12-09 17:15:43.384116  \n",
       "2          True  Jornada_prj_gpkg/prj001.gpkg 2022-12-09 17:15:43.760363  \n",
       "3          True  Jornada_prj_gpkg/prj001.gpkg 2022-12-09 17:15:44.127417  \n",
       "4          True  Jornada_prj_gpkg/prj001.gpkg 2022-12-09 17:15:44.516192  "
      ]
     },
     "execution_count": 11,
     "metadata": {},
     "output_type": "execute_result"
    }
   ],
   "source": [
    "print(prj_log.shape)\n",
    "print(len(all_l))\n",
    "prj_log.head()"
   ]
  },
  {
   "cell_type": "code",
   "execution_count": 21,
   "id": "b2ab1d75-4948-41f8-b88c-f9ebe82e6395",
   "metadata": {},
   "outputs": [],
   "source": [
    "added = prj_log.layer_name.loc[prj_log.added_to_gpkg=='True']\n",
    "excluded = [x for x in all_l if x not in added.values]"
   ]
  },
  {
   "cell_type": "code",
   "execution_count": 22,
   "id": "80b50b15-8295-4ebb-b03d-c1a2b152822f",
   "metadata": {},
   "outputs": [
    {
     "data": {
      "text/plain": [
       "['JRNPhysiography2000',\n",
       " 'JRNLandforms2000',\n",
       " 'JRNSoilParentMaterials2000',\n",
       " 'JornadaGeomorphology',\n",
       " 'JERSoil1963',\n",
       " 'JERSoils1918',\n",
       " 'CDRRCVegetation1998',\n",
       " 'CDRRCVegetation1938',\n",
       " 'CDRRCGrassCondition1858',\n",
       " 'CDRRCShrubPresence1858',\n",
       " 'JERGrassCondition1858',\n",
       " 'JERShrubPresence1858',\n",
       " 'JERVegetation1915',\n",
       " 'JERVegetation1928',\n",
       " 'JERVegetation1998',\n",
       " 'JornadaVegetation1998',\n",
       " 'JornadaStudy_011_npp_annual_production_data',\n",
       " 'JornadaStudy_011_npp_harvest_data',\n",
       " 'JornadaStudy_011_npp_quad_biomass_data',\n",
       " 'JornadaStudy_086_smes_cryptogam_crust_quad',\n",
       " 'JornadaStudy_086_smes_leaf_litter_quad_data',\n",
       " 'JornadaStudy_086_smes_plant_cover_line_data',\n",
       " 'JornadaStudy_086_smes_plant_cover_quad_data',\n",
       " 'JornadaStudy_086_smes_rabbit_feces_quad_data',\n",
       " 'JornadaStudy_086_smes_rodent_trapping_web_data',\n",
       " 'JornadaStudy_086_smes_soil_disturbance_quad_data',\n",
       " 'JornadaStudy_086_smes_termite_casing_quad_data',\n",
       " 'JornadaStudy_380_jer_standard_raingage_data',\n",
       " 'Exc',\n",
       " 'Playas_30',\n",
       " 'watersheds_30',\n",
       " 'JER_HistoricalPhotos',\n",
       " 'Soil_samples',\n",
       " 'Soil_Core_5m',\n",
       " 'JornadaStudy_CSIS_SoilProbe',\n",
       " 'Jornex_Grids',\n",
       " 'Jornex_transects',\n",
       " 'transects',\n",
       " 'GigaPan_Camera_Loc',\n",
       " 'CottonwoodSpringsExcabations',\n",
       " 'JornadaResearch_410_z_PlotCoordinates',\n",
       " 'JornadaStudy_PlotTrtmts',\n",
       " 'Export_Output',\n",
       " 'export2',\n",
       " 'JornadaStudy_sdebrisgantrysoploecho',\n",
       " 'JornadaStudy_351_Permanent_Chart_Quadrat_Data',\n",
       " 'Research_LTER_transect_stations',\n",
       " 'JornadaStudy_179_herricks_lagomorph_creosotebush_data',\n",
       " 'JornadaResearch_287_npp_Perennial_Plant_Phenology_Data',\n",
       " 'JornadaResearch_288_npp_geomet_bsne_dust_collector_data',\n",
       " 'JornadaResearch_365_long_term_soil_movement_data',\n",
       " 'JornadaResearch_412_cattle_horse_sheep_stocking_rate_data',\n",
       " 'JornadaStudy_JER_Dec17',\n",
       " 'cr_rg_point',\n",
       " 'cr_wellpt',\n",
       " 'dcr_exc_point',\n",
       " 'wwdt_1938',\n",
       " 'points',\n",
       " 'boundary',\n",
       " 'Transect_plant_line_intercept',\n",
       " 'NPP_Arthropods_1988_1994',\n",
       " 'NPP_arthropods_1996_2000',\n",
       " 'Nitrogen_storage_creosotebush_poly',\n",
       " 'JornadaResearch_006_LightfootDavid_Grasshoppers',\n",
       " 'mongersamp',\n",
       " 'mongerunsam',\n",
       " 'davidtoledo',\n",
       " 'study_365_test',\n",
       " 'JornadaStudy_365_long_term_soil_movement_natural_revegetation_exclosure_erosion_pins__ATTACH',\n",
       " 'JornadaStudy_007',\n",
       " 'JornadaStudy_002_npp_precipitation_graduated_raingauge_monthly_1989_2017',\n",
       " 'JornadaStudy_001_hydrology_runoff_plot_runoff_data',\n",
       " 'JornadaStudy_001_hydrology_runoff_plot_chemistry_data',\n",
       " 'JornadaStudy_011_npp_quad_data',\n",
       " 'JornadaStudy_001_hydrology_runoff_plot_vegetation_cover_data',\n",
       " 'JornadaStudy_010_termite_bait_data',\n",
       " 'JornadaStudy_012_transect_soil_water_content_raw_data',\n",
       " 'JornadaStudy_012_transect_soil_water_content_data',\n",
       " 'JornadaStudy_013_npp_soil_water_content_data',\n",
       " 'JornadaStudy_013_npp_soil_water_content_data_raw',\n",
       " 'JornadaStudy_013_npp_soil_volumetric_water_content_data']"
      ]
     },
     "execution_count": 22,
     "metadata": {},
     "output_type": "execute_result"
    }
   ],
   "source": [
    "# The layers below were excluded from the geopackages. Some should be added - they just don't have\n",
    "# The correct project numbers. Examine the original featuredatasets in the gdb to find where they\n",
    "# go.\n",
    "excluded"
   ]
  }
 ],
 "metadata": {
  "kernelspec": {
   "display_name": "Python 3 (ipykernel)",
   "language": "python",
   "name": "python3"
  },
  "language_info": {
   "codemirror_mode": {
    "name": "ipython",
    "version": 3
   },
   "file_extension": ".py",
   "mimetype": "text/x-python",
   "name": "python",
   "nbconvert_exporter": "python",
   "pygments_lexer": "ipython3",
   "version": "3.8.15"
  }
 },
 "nbformat": 4,
 "nbformat_minor": 5
}

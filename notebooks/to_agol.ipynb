{
 "cells": [
  {
   "cell_type": "code",
   "execution_count": 1,
   "id": "e25ed348-24dc-49f9-bcb1-1d13e9b7a795",
   "metadata": {},
   "outputs": [],
   "source": [
    "from arcgis.gis import GIS\n",
    "import sqlalchemy as sqla\n",
    "import geopandas as gpd\n",
    "import pandas as pd\n",
    "import os\n",
    "import glob\n",
    "# Get credentials for the jgeo database\n",
    "import sys\n",
    "sys.path.append('/home/greg/admin/')\n",
    "import jgeo_cred as dbcred\n",
    "# Some stuff we need to access the NMSU ArcGIS Online system\n",
    "import nmsu_agol_cred # AGOL credentials\n",
    "\n",
    "# jgeo_utils imports\n",
    "sys.path.append('/home/greg/GitHub/jgeo_utils')\n",
    "import jgeo_py.agol as agol\n",
    "import jgeo_py.pg as pg\n",
    "\n",
    "# get a connection to jgeo\n",
    "conn = sqla.create_engine(\"postgresql+psycopg2://{0}:{1}@{2}:5432/{3}\".format(\n",
    "    dbcred.user, dbcred.pwd, dbcred.host, dbcred.db))\n",
    "\n",
    "# Log into NMSU AGOL and get a GIS object\n",
    "gis = GIS(nmsu_agol_cred.agol_url, \n",
    "          username=nmsu_agol_cred.agol_user,\n",
    "          password=nmsu_agol_cred.password)\n",
    "\n",
    "# Path to local jgeo folder\n",
    "jgeo_path = '/home/greg/data/rawdata/JornadaGeospatial'"
   ]
  },
  {
   "cell_type": "code",
   "execution_count": 2,
   "id": "717522fe-f716-45ae-9081-e0c468adb5fe",
   "metadata": {},
   "outputs": [],
   "source": [
    "# Get groupids\n",
    "jgrp_id = gis.groups.search('title:JornadaGIS')[0].id\n",
    "jgrp_pub_id = gis.groups.search('title:Jornada GeoPortal')[0].id"
   ]
  },
  {
   "cell_type": "code",
   "execution_count": 3,
   "id": "15662724-4ff3-4fd1-a864-de828be7282e",
   "metadata": {},
   "outputs": [
    {
     "data": {
      "text/plain": [
       "82"
      ]
     },
     "execution_count": 3,
     "metadata": {},
     "output_type": "execute_result"
    }
   ],
   "source": [
    "# Search existing content\n",
    "my_content = gis.content.search(query=\"owner:\" + gis.users.me.username, \n",
    "                                item_type=\"Feature Layer\",\n",
    "                                max_items=500)\n",
    "len(my_content)"
   ]
  },
  {
   "cell_type": "code",
   "execution_count": 4,
   "metadata": {},
   "outputs": [
    {
     "data": {
      "text/plain": [
       "[<Item title:\"cr_rg_point\" type:Feature Layer Collection owner:gmaurer1>,\n",
       " <Item title:\"JornadaStudy_sdebrisgantrysoploecho\" type:Feature Layer Collection owner:gmaurer1>,\n",
       " <Item title:\"Export_Output\" type:Feature Layer Collection owner:gmaurer1>,\n",
       " <Item title:\"GigaPan_Camera_Loc\" type:Feature Layer Collection owner:gmaurer1>,\n",
       " <Item title:\"WeatherStations\" type:Feature Layer Collection owner:gmaurer1>,\n",
       " <Item title:\"wwdt_1938\" type:Feature Layer Collection owner:gmaurer1>,\n",
       " <Item title:\"OffLimits_20Aug15\" type:Feature Layer Collection owner:gmaurer1>,\n",
       " <Item title:\"cr_wellpt\" type:Feature Layer Collection owner:gmaurer1>,\n",
       " <Item title:\"mongerunsam\" type:Feature Layer Collection owner:gmaurer1>,\n",
       " <Item title:\"Nitrogen_storage_creosotebush_poly\" type:Feature Layer Collection owner:gmaurer1>,\n",
       " <Item title:\"Soil_Core_5m\" type:Feature Layer Collection owner:gmaurer1>,\n",
       " <Item title:\"Rds_ClipToJER_27Apr18\" type:Feature Layer Collection owner:gmaurer1>,\n",
       " <Item title:\"JornadaStudy_379_noaa_weather_station_climate_monthly?\" type:Feature Layer Collection owner:gmaurer1>,\n",
       " <Item title:\"Soil_samples\" type:Feature Layer Collection owner:gmaurer1>,\n",
       " <Item title:\"JornadaStudy_126_lter_weather_station\" type:Feature Layer Collection owner:gmaurer1>,\n",
       " <Item title:\"JornadaGeomorphology\" type:Feature Layer Collection owner:gmaurer1>,\n",
       " <Item title:\"Buffington_Herbel_1915\" type:Feature Layer Collection owner:gmaurer1>,\n",
       " <Item title:\"JRNSoilParentMaterials2000\" type:Feature Layer Collection owner:gmaurer1>,\n",
       " <Item title:\"layer_styles\" type:Table Layer owner:gmaurer1>,\n",
       " <Item title:\"JornadaStudy_PlotTrtmts\" type:Feature Layer Collection owner:gmaurer1>,\n",
       " <Item title:\"JornadaStudy_379_noaa_weather_station_evaporation_pan_monthly?\" type:Feature Layer Collection owner:gmaurer1>,\n",
       " <Item title:\"transects\" type:Feature Layer Collection owner:gmaurer1>,\n",
       " <Item title:\"Fence_JER_06Nov15\" type:Feature Layer Collection owner:gmaurer1>,\n",
       " <Item title:\"IsaackLakePoly\" type:Feature Layer Collection owner:gmaurer1>,\n",
       " <Item title:\"MetSta_413_DD\" type:Feature Layer Collection owner:gmaurer1>,\n",
       " <Item title:\"RioGrande\" type:Feature Layer Collection owner:gmaurer1>,\n",
       " <Item title:\"JRNLandforms2000\" type:Feature Layer Collection owner:gmaurer1>,\n",
       " <Item title:\"All5_Sites_420m_Landsat_poly\" type:Feature Layer Collection owner:gmaurer1>,\n",
       " <Item title:\"All_RainGauge_15Oct13_1\" type:Feature Layer Collection owner:gmaurer1>,\n",
       " <Item title:\"Transect_plant_line_intercept\" type:Feature Layer Collection owner:gmaurer1>,\n",
       " <Item title:\"points\" type:Feature Layer Collection owner:gmaurer1>,\n",
       " <Item title:\"NPP_Arthropods_1988_1994\" type:Feature Layer Collection owner:gmaurer1>,\n",
       " <Item title:\"mongersamp\" type:Feature Layer Collection owner:gmaurer1>,\n",
       " <Item title:\"Jornex_Grids\" type:Feature Layer Collection owner:gmaurer1>,\n",
       " <Item title:\"OffLimits_27Feb2014_Final\" type:Feature Layer Collection owner:gmaurer1>,\n",
       " <Item title:\"CDRRC_Bdry_25Aug15\" type:Feature Layer Collection owner:gmaurer1>,\n",
       " <Item title:\"Jornada Hydrology Runoff Study exclosures\" type:Feature Layer Collection owner:gmaurer1>,\n",
       " <Item title:\"JER_29Rgs\" type:Feature Layer Collection owner:gmaurer1>,\n",
       " <Item title:\"Boundary_CDRRC_JER\" type:Feature Layer Collection owner:gmaurer1>,\n",
       " <Item title:\"Playas_30\" type:Feature Layer Collection owner:gmaurer1>,\n",
       " <Item title:\"AllRds_JER_And_Vicinity_04Sep15\" type:Feature Layer Collection owner:gmaurer1>,\n",
       " <Item title:\"Cattleguards\" type:Feature Layer Collection owner:gmaurer1>,\n",
       " <Item title:\"CDRRC_ExcloEDITED21Aug13\" type:Feature Layer Collection owner:gmaurer1>,\n",
       " <Item title:\"Jornex_transects\" type:Feature Layer Collection owner:gmaurer1>,\n",
       " <Item title:\"UTEP_Site_Access_Trail_UTM\" type:Feature Layer Collection owner:gmaurer1>,\n",
       " <Item title:\"BurnPlots21Aug13\" type:Feature Layer Collection owner:gmaurer1>,\n",
       " <Item title:\"dcr_exc_point\" type:Feature Layer Collection owner:gmaurer1>,\n",
       " <Item title:\"RanchStructures\" type:Feature Layer Collection owner:gmaurer1>,\n",
       " <Item title:\"Research_LTER_transect_stations\" type:Feature Layer Collection owner:gmaurer1>,\n",
       " <Item title:\"All_RG_25Mar15_WGS84\" type:Feature Layer Collection owner:gmaurer1>,\n",
       " <Item title:\"JornadaStudy_548(413)_MetTower\" type:Feature Layer Collection owner:gmaurer1>,\n",
       " <Item title:\"All_RainGauge_15Oct13\" type:Feature Layer Collection owner:gmaurer1>,\n",
       " <Item title:\"Buffington_Herbel_1928\" type:Feature Layer Collection owner:gmaurer1>,\n",
       " <Item title:\"Buffington_Herbel_1858\" type:Feature Layer Collection owner:gmaurer1>,\n",
       " <Item title:\"JRNPhysiography2000\" type:Feature Layer Collection owner:gmaurer1>,\n",
       " <Item title:\"Buffington_Herbel_1963\" type:Feature Layer Collection owner:gmaurer1>,\n",
       " <Item title:\"watersheds_30\" type:Feature Layer Collection owner:gmaurer1>,\n",
       " <Item title:\"davidtoledo\" type:Feature Layer Collection owner:gmaurer1>,\n",
       " <Item title:\"ClosedRoad\" type:Feature Layer Collection owner:gmaurer1>,\n",
       " <Item title:\"CottonwoodSpringsExcabations\" type:Feature Layer Collection owner:gmaurer1>,\n",
       " <Item title:\"TwdieTower_WGS84\" type:Feature Layer Collection owner:gmaurer1>,\n",
       " <Item title:\"Pastures_JER_16Sep15\" type:Feature Layer Collection owner:gmaurer1>,\n",
       " <Item title:\"RG_JER_onlyNotLTER_1\" type:Feature Layer Collection owner:gmaurer1>,\n",
       " <Item title:\"CDRRC_Exclosures_17Sep15\" type:Feature Layer Collection owner:gmaurer1>,\n",
       " <Item title:\"export2\" type:Feature Layer Collection owner:gmaurer1>,\n",
       " <Item title:\"GDB_Items\" type:Feature Layer Collection owner:gmaurer1>,\n",
       " <Item title:\"CDNP_Bdry_25Aug15\" type:Feature Layer Collection owner:gmaurer1>,\n",
       " <Item title:\"Fence_CDRRC_26Aug15\" type:Feature Layer Collection owner:gmaurer1>,\n",
       " <Item title:\"JER_HistoricalPhotos\" type:Feature Layer Collection owner:gmaurer1>,\n",
       " <Item title:\"JERSoils1918\" type:Feature Layer Collection owner:gmaurer1>,\n",
       " <Item title:\"RemvdFences\" type:Feature Layer Collection owner:gmaurer1>,\n",
       " <Item title:\"Pastures_CDRRC2_16Sep15\" type:Feature Layer Collection owner:gmaurer1>,\n",
       " <Item title:\"All5_Sites_420m_Buf50\" type:Feature Layer Collection owner:gmaurer1>,\n",
       " <Item title:\"Towers3\" type:Feature Layer Collection owner:gmaurer1>,\n",
       " <Item title:\"StudiesBuf50_26Nov2014\" type:Feature Layer Collection owner:gmaurer1>,\n",
       " <Item title:\"JornadaStudy_JER_Dec17\" type:Feature Layer Collection owner:gmaurer1>,\n",
       " <Item title:\"NPP_arthropods_1996_2000\" type:Feature Layer Collection owner:gmaurer1>,\n",
       " <Item title:\"RG_JER_onlyNotLTER\" type:Feature Layer Collection owner:gmaurer1>,\n",
       " <Item title:\"Wells\" type:Feature Layer Collection owner:gmaurer1>,\n",
       " <Item title:\"JER_Rg_DThatcher_Oct2013\" type:Feature Layer Collection owner:gmaurer1>,\n",
       " <Item title:\"Landform_WGS84_13N\" type:Feature Layer Collection owner:gmaurer1>,\n",
       " <Item title:\"Boundary_JER_full\" type:Feature Layer Collection owner:gmaurer1>]"
      ]
     },
     "execution_count": 4,
     "metadata": {},
     "output_type": "execute_result"
    }
   ],
   "source": [
    "my_content\n"
   ]
  },
  {
   "cell_type": "code",
   "execution_count": 12,
   "id": "c4051542-6494-46ba-9571-fb7cc047dbaa",
   "metadata": {},
   "outputs": [
    {
     "data": {
      "text/plain": [
       "'/tmp/metadata.xml'"
      ]
     },
     "execution_count": 12,
     "metadata": {},
     "output_type": "execute_result"
    }
   ],
   "source": [
    "# Get metadata for a published item\n",
    "my_content[0].download_metadata()"
   ]
  },
  {
   "cell_type": "code",
   "execution_count": 7,
   "id": "7b714af0-bb5b-4ec8-b5f1-b7665ef58fb3",
   "metadata": {
    "collapsed": true,
    "jupyter": {
     "outputs_hidden": true
    },
    "tags": []
   },
   "outputs": [
    {
     "ename": "NameError",
     "evalue": "name 'test' is not defined",
     "output_type": "error",
     "traceback": [
      "\u001b[0;31m---------------------------------------------------------------------------\u001b[0m",
      "\u001b[0;31mNameError\u001b[0m                                 Traceback (most recent call last)",
      "\u001b[1;32m/home/greg/GitHub/jgeo_utils/notebooks/to_agol.ipynb Cell 5\u001b[0m line \u001b[0;36m4\n\u001b[1;32m      <a href='vscode-notebook-cell:/home/greg/GitHub/jgeo_utils/notebooks/to_agol.ipynb#W4sZmlsZQ%3D%3D?line=0'>1</a>\u001b[0m \u001b[39m# Trying to import a pandas dataframe as an item\u001b[39;00m\n\u001b[1;32m      <a href='vscode-notebook-cell:/home/greg/GitHub/jgeo_utils/notebooks/to_agol.ipynb#W4sZmlsZQ%3D%3D?line=1'>2</a>\u001b[0m \u001b[39m# This doesn't really work with geometry columns. If there were\u001b[39;00m\n\u001b[1;32m      <a href='vscode-notebook-cell:/home/greg/GitHub/jgeo_utils/notebooks/to_agol.ipynb#W4sZmlsZQ%3D%3D?line=2'>3</a>\u001b[0m \u001b[39m# X & Y columns it might\u001b[39;00m\n\u001b[0;32m----> <a href='vscode-notebook-cell:/home/greg/GitHub/jgeo_utils/notebooks/to_agol.ipynb#W4sZmlsZQ%3D%3D?line=3'>4</a>\u001b[0m test_fc \u001b[39m=\u001b[39m gis\u001b[39m.\u001b[39mcontent\u001b[39m.\u001b[39mimport_data(test)\n\u001b[1;32m      <a href='vscode-notebook-cell:/home/greg/GitHub/jgeo_utils/notebooks/to_agol.ipynb#W4sZmlsZQ%3D%3D?line=4'>5</a>\u001b[0m test_fc\n",
      "\u001b[0;31mNameError\u001b[0m: name 'test' is not defined"
     ]
    }
   ],
   "source": [
    "# Trying to import a pandas dataframe as an item\n",
    "# This doesn't really work with geometry columns. If there were\n",
    "# X & Y columns it might\n",
    "test_fc = gis.content.import_data(test)\n",
    "test_fc"
   ]
  },
  {
   "cell_type": "markdown",
   "id": "217fd145-55e0-4fce-a8da-ad430290e38f",
   "metadata": {},
   "source": [
    "## Create 'jgeo_layers' and 'jgeo_layers_public' folders"
   ]
  },
  {
   "cell_type": "code",
   "execution_count": 8,
   "id": "0c0e36f1-4f48-4e33-80de-c5f4192975f4",
   "metadata": {},
   "outputs": [
    {
     "data": {
      "text/plain": [
       "{'username': 'gmaurer1',\n",
       " 'id': '5b13378414e44b9fa0c7678927cb3ae9',\n",
       " 'title': 'jgeo_layers_public'}"
      ]
     },
     "execution_count": 8,
     "metadata": {},
     "output_type": "execute_result"
    }
   ],
   "source": [
    "# Create our content folders if they don't exist\n",
    "gis.content.create_folder('jgeo_layers')\n",
    "gis.content.create_folder('jgeo_layers_public')"
   ]
  },
  {
   "cell_type": "code",
   "execution_count": 9,
   "id": "2134575d-b813-4156-8918-a23f2b37ffcb",
   "metadata": {},
   "outputs": [],
   "source": [
    "# Inventory of layers\n",
    "jgeo_online = pd.read_csv(os.path.join(jgeo_path, 'jgeo_layers_online.csv'))\n",
    "# Get layers that are in jgeo only\n",
    "jgeo_online = jgeo_online[~pd.isna(jgeo_online.jgeo_table_name)]"
   ]
  },
  {
   "cell_type": "code",
   "execution_count": 13,
   "id": "ec0703fe-b0eb-4213-8683-05cee0d2ab06",
   "metadata": {
    "tags": []
   },
   "outputs": [
    {
     "name": "stdout",
     "output_type": "stream",
     "text": [
      "58\n",
      "prj126_lter_weather_station\n",
      "59\n",
      "prj437_mettower\n",
      "60\n",
      "prj413_metsta_dd\n",
      "61\n",
      "jer_29rgs\n",
      "62\n",
      "jer_rg_dthatcher_oct2013\n",
      "63\n",
      "all_rg_25mar15_wgs84\n",
      "64\n",
      "all_raingauge_15oct13\n",
      "69\n",
      "prj405_jrngeomorphology\n"
     ]
    },
    {
     "ename": "IndexError",
     "evalue": "list index out of range",
     "output_type": "error",
     "traceback": [
      "\u001b[0;31m---------------------------------------------------------------------------\u001b[0m",
      "\u001b[0;31mIndexError\u001b[0m                                Traceback (most recent call last)",
      "\u001b[1;32m/home/greg/GitHub/jgeo_utils/notebooks/to_agol.ipynb Cell 9\u001b[0m line \u001b[0;36m1\n\u001b[1;32m     <a href='vscode-notebook-cell:/home/greg/GitHub/jgeo_utils/notebooks/to_agol.ipynb#X11sZmlsZQ%3D%3D?line=9'>10</a>\u001b[0m \u001b[39mprint\u001b[39m(layer)\n\u001b[1;32m     <a href='vscode-notebook-cell:/home/greg/GitHub/jgeo_utils/notebooks/to_agol.ipynb#X11sZmlsZQ%3D%3D?line=10'>11</a>\u001b[0m \u001b[39m# Pull metadata from jgeo\u001b[39;00m\n\u001b[0;32m---> <a href='vscode-notebook-cell:/home/greg/GitHub/jgeo_utils/notebooks/to_agol.ipynb#X11sZmlsZQ%3D%3D?line=11'>12</a>\u001b[0m md \u001b[39m=\u001b[39m pg\u001b[39m.\u001b[39;49mmd_dict(conn, schema, layer)\n\u001b[1;32m     <a href='vscode-notebook-cell:/home/greg/GitHub/jgeo_utils/notebooks/to_agol.ipynb#X11sZmlsZQ%3D%3D?line=12'>13</a>\u001b[0m fl_properties \u001b[39m=\u001b[39m agol\u001b[39m.\u001b[39mqmd_to_agol_prop(jgeo_online\u001b[39m.\u001b[39magol_title[i], md[\u001b[39m'\u001b[39m\u001b[39mqmd\u001b[39m\u001b[39m'\u001b[39m])\n\u001b[1;32m     <a href='vscode-notebook-cell:/home/greg/GitHub/jgeo_utils/notebooks/to_agol.ipynb#X11sZmlsZQ%3D%3D?line=13'>14</a>\u001b[0m \u001b[39m# Write to geojson file in temp dir\u001b[39;00m\n",
      "File \u001b[0;32m~/GitHub/jgeo_utils/jgeo_py/pg.py:38\u001b[0m, in \u001b[0;36mmd_dict\u001b[0;34m(conn, schema, layer)\u001b[0m\n\u001b[1;32m     24\u001b[0m \u001b[39m\u001b[39m\u001b[39m\"\"\"_summary_\u001b[39;00m\n\u001b[1;32m     25\u001b[0m \n\u001b[1;32m     26\u001b[0m \u001b[39mParameters\u001b[39;00m\n\u001b[0;32m   (...)\u001b[0m\n\u001b[1;32m     33\u001b[0m \u001b[39m    _description_\u001b[39;00m\n\u001b[1;32m     34\u001b[0m \u001b[39m\"\"\"\u001b[39;00m\n\u001b[1;32m     35\u001b[0m md \u001b[39m=\u001b[39m pd\u001b[39m.\u001b[39mread_sql(\u001b[39m\"\u001b[39m\u001b[39mSELECT * FROM public.qgis_layer_metadata WHERE \u001b[39m\u001b[39m\\\u001b[39;00m\n\u001b[1;32m     36\u001b[0m \u001b[39m    f_table_name = \u001b[39m\u001b[39m'\u001b[39m\u001b[39m{0}\u001b[39;00m\u001b[39m'\u001b[39m\u001b[39m AND f_table_schema = \u001b[39m\u001b[39m'\u001b[39m\u001b[39m{1}\u001b[39;00m\u001b[39m'\u001b[39m\u001b[39m;\u001b[39m\u001b[39m\"\u001b[39m\u001b[39m.\u001b[39mformat(layer, schema),\n\u001b[1;32m     37\u001b[0m      conn)\n\u001b[0;32m---> 38\u001b[0m \u001b[39mreturn\u001b[39;00m(md\u001b[39m.\u001b[39;49mto_dict(\u001b[39m'\u001b[39;49m\u001b[39mrecords\u001b[39;49m\u001b[39m'\u001b[39;49m)[\u001b[39m0\u001b[39;49m])\n",
      "\u001b[0;31mIndexError\u001b[0m: list index out of range"
     ]
    }
   ],
   "source": [
    "import imp\n",
    "imp.reload(agol)\n",
    "imp.reload(pg)\n",
    "\n",
    "for i in jgeo_online[50:].index:\n",
    "    print(i)\n",
    "    # Get jgeo layer info from table\n",
    "    schema = jgeo_online.jgeo_schema[i]\n",
    "    layer = jgeo_online.jgeo_table_name[i]\n",
    "    print(layer)\n",
    "    # Pull metadata from jgeo\n",
    "    md = pg.md_dict(conn, schema, layer)\n",
    "    fl_properties = agol.qmd_to_agol_prop(jgeo_online.agol_title[i], md['qmd'])\n",
    "    # Write to geojson file in temp dir\n",
    "    geojson_fname = pg.table_to_geojson(conn, schema, layer, \n",
    "                                        outdir=os.path.join(jgeo_path, 'tmp'))\n",
    "    # Publish the layer to jgeo_layers_public if requested\n",
    "    if jgeo_online.make_public[i]:\n",
    "        item, fl = agol.add_geojson_item(geojson_fname, gis,\n",
    "                                         'jgeo_layers_public',\n",
    "                                         properties=fl_properties,\n",
    "                                         publish_after=True,\n",
    "                                         remove_after=True,\n",
    "                                        )\n",
    "        # Delete the geojson file from agol\n",
    "        item.delete()\n",
    "        # Share with public\n",
    "        fl.share(everyone=True, org=True,\n",
    "            groups=[jgrp_id, jgrp_pub_id])\n",
    "        \n",
    "    # Or to jgeo_layers if for internal use\n",
    "    else:\n",
    "        item, fl = agol.add_geojson_item(geojson_fname, gis, \n",
    "                                         'jgeo_layers',\n",
    "                                         properties=fl_properties,\n",
    "                                         publish_after=True,\n",
    "                                         remove_after=True)\n",
    "        # Delete the geojson file from agol\n",
    "        item.delete()\n",
    "        fl.share(everyone=False, org=False,\n",
    "            groups=[jgrp_id])\n",
    "    \n",
    "    #layer = 'prj404_cdrrcvegetation1938_new'\n",
    "    #test = pg.table_to_gdf(conn, schema, layer)\n",
    "    #md = pg.md_dict(conn, schema, layer)\n",
    "#md = pd.read_sql(\"SELECT * FROM public.qgis_layer_metadata WHERE f_table_name = 'prj404_cdrrcvegetation1938_new';\", conn)"
   ]
  },
  {
   "cell_type": "code",
   "execution_count": 6,
   "id": "79c930a1-0548-4afd-92ed-e9131a1f066a",
   "metadata": {},
   "outputs": [
    {
     "data": {
      "text/plain": [
       "True"
      ]
     },
     "execution_count": 6,
     "metadata": {},
     "output_type": "execute_result"
    }
   ],
   "source": [
    "# Delete if we are just testing!\n",
    "gis.content.delete_folder('jgeo_layers_public')\n",
    "gis.content.delete_folder('jgeo_layers')"
   ]
  },
  {
   "cell_type": "markdown",
   "id": "1747eaf1",
   "metadata": {},
   "source": [
    "## Copy research project geopackages to AGOL\n",
    "\n",
    "This is deprecated - just for example"
   ]
  },
  {
   "cell_type": "code",
   "execution_count": 50,
   "id": "1d9e73e3-6177-418c-9d4f-1e4143c031f3",
   "metadata": {},
   "outputs": [
    {
     "name": "stdout",
     "output_type": "stream",
     "text": [
      "prj001\n",
      "True\n",
      "True\n",
      "True\n",
      "True\n",
      "True\n",
      "prj002\n",
      "True\n",
      "prj004\n",
      "True\n",
      "prj008\n",
      "True\n",
      "prj009\n",
      "True\n",
      "True\n",
      "prj010\n",
      "True\n",
      "True\n"
     ]
    }
   ],
   "source": [
    "# Metadata file\n",
    "metadata = pd.read_csv(os.path.join(jgeo_path, 'metadata', 'JornadaGeosp_metadata_20220107.csv'))\n",
    "\n",
    "# Get a sorted list of all the project geopackages\n",
    "prj_gpkgs = sorted(glob.glob(os.path.join(jgeo_path, \"jrn_studies\", \"/*.gpkg\")))\n",
    "\n",
    "# Create a folder for GeoJSON items and for the \n",
    "# packages (FeatureLayerCollections)\n",
    "folder_geojson = 'JornadaResearchProjects_geojson'\n",
    "gis.content.create_folder(folder_geojson)\n",
    "folder_pkg = 'JornadaResearchProjects'\n",
    "gis.content.create_folder(folder_pkg)\n",
    "\n",
    "for i, pkg_path in enumerate(prj_gpkgs[0:6]):\n",
    "    pkg_name = pkg_path.split('/')[1][0:6]\n",
    "    studyid = pkg_name[3:6]\n",
    "    print(pkg_name)\n",
    "    # Get the metadata\n",
    "    pkg_md = metadata[metadata.gpkg_fname==pkg_name+'.gpkg']\n",
    "    \n",
    "    # Create a hosted feature service on AGOL\n",
    "    new_svc = gis.content.create_service(name=pkg_name,\n",
    "        service_type='featureService', folder=folder_pkg)\n",
    "    # Create a featureLayerCollection with new_svc\n",
    "    new_flc = fs.FeatureLayerCollection.fromitem(new_svc)\n",
    "    # Share the feature service with the JornadaGIS group\n",
    "    new_svc.share(everyone=False, org=False, groups=[jornadagis_grpid])\n",
    "\n",
    "    # Update the properties of the new featureLayerCollection (title,\n",
    "    # summary, description, etc)\n",
    "    fs_defs = agol.jornada_fs_definitions(new_flc, pkg_md)\n",
    "    # A little kludge to fix the geopackage description\n",
    "    fs_defs['description'] = fs_defs['description'].replace(\n",
    "        ' layer is part of ', ' is ')\n",
    "    new_flc.manager.update_definition(fs_defs)\n",
    "    new_svc.update(fs_defs) # This updates the item info?\n",
    "    # Copy the geopackage layers into the featureLayerCollection\n",
    "    agol.geopkg_to_multi_fs(gis, folder_geojson, new_flc, pkg_path,\n",
    "        pkg_md, clean_local=True)\n",
    "\n",
    "    "
   ]
  },
  {
   "cell_type": "code",
   "execution_count": 49,
   "id": "403979b5-7912-46d0-9af9-b9545f610506",
   "metadata": {},
   "outputs": [
    {
     "name": "stdout",
     "output_type": "stream",
     "text": [
      "Folder doesn't exist.\n",
      "Folder doesn't exist.\n"
     ]
    },
    {
     "data": {
      "text/plain": [
       "False"
      ]
     },
     "execution_count": 49,
     "metadata": {},
     "output_type": "execute_result"
    }
   ],
   "source": [
    "folder_geojson = 'JornadaResearchProjects_geojson'\n",
    "folder_pkg = 'JornadaResearchProjects'\n",
    "gis.content.delete_folder(folder_geojson)\n",
    "gis.content.delete_folder(folder_pkg)"
   ]
  },
  {
   "cell_type": "markdown",
   "id": "913aacfc",
   "metadata": {},
   "source": [
    "## Copy thematic geopackages\n",
    "\n",
    "This is deprecated - just for example"
   ]
  },
  {
   "cell_type": "code",
   "execution_count": 7,
   "id": "8b06f377",
   "metadata": {},
   "outputs": [
    {
     "name": "stdout",
     "output_type": "stream",
     "text": [
      "CDRRCGrassCondition1858\n",
      "CDRRCShrubPresence1858\n",
      "JERGrassCondition1858\n",
      "JERShrubPresence1858\n",
      "JERVegetation1915\n",
      "JERVegetation1928\n",
      "JERVegetation1998\n",
      "Buffington_Herbel_1858\n",
      "Buffington_Herbel_1915\n",
      "Buffington_Herbel_1928\n",
      "Buffington_Herbel_1963\n",
      "1938_CDRRC_Vegetation\n",
      "1998_CDRRC_Vegetation\n",
      "Boundary_JER_full\n",
      "Boundary_CDRRC_JER\n",
      "All3_Bdry_25Aug15\n",
      "Airstrip\n",
      "BurnPlots21Aug13\n",
      "Cattleguards\n",
      "CDNP_Bdry_25Aug15\n",
      "CDRRC_Bdry_25Aug15\n",
      "CDRRC_ExcloEDITED21Aug13\n",
      "CDRRC_Exclosures_17Sep15\n",
      "ClosedRoad\n",
      "CSISParking\n",
      "DefunctTowers\n",
      "Dirt_Tanks\n",
      "ExclosuresJER_17Jul2015\n",
      "ExclusuresJER_Jul172015\n",
      "JER_Bdry_25Aug15\n",
      "JER_CDRRC_Bdry_FromCorrectedMar2014\n",
      "JER_DeededBndry_OCt2013\n",
      "JER_FtB_WSMR_bndry\n",
      "Lvstk_Corral_Lot_Lane\n",
      "Pastures_CDRRC2_16Sep15\n",
      "Pastures_JER_16Sep15\n",
      "RanchStructures\n",
      "random_troughs\n",
      "skipping layer: random_troughs\n",
      "Rds_ClipToJER_27Apr18\n",
      "RemvdFenceLabel\n",
      "skipping layer: RemvdFenceLabel\n",
      "RemvdFences\n",
      "Tanks\n",
      "Towers3\n",
      "TwdieTower_WGS84\n",
      "UTEP_Site_Access_Trail_UTM\n",
      "Wells\n",
      "AllRds_JER_And_Vicinity_04Sep15\n",
      "Fence_JER_06Nov15\n",
      "Fence_CDRRC_26Aug15\n",
      "JornadaStudy_379_noaa_weather_station_climate_monthly?\n",
      "JornadaStudy_379_noaa_weather_station_evaporation_pan_monthly?\n",
      "JornadaStudy_548(413)_MetTower\n",
      "MetSta_413_DD\n",
      "JER_29Rgs\n",
      "JER_Rg_DThatcher_Oct2013\n",
      "All_RG_25Mar15_WGS84\n",
      "All_RainGauge_15Oct13\n",
      "All_RainGauge_15Oct13_1\n",
      "RG_JER_onlyNotLTER\n",
      "RG_JER_onlyNotLTER_1\n",
      "WeatherStations\n",
      "layer_styles\n",
      "JornadaGeomorphology\n",
      "JERSoil1963\n",
      "JERSoils1918\n",
      "JRNPhysiography2000\n",
      "JRNLandforms2000\n",
      "JRNSoilParentMaterials2000\n",
      "Playas_30\n",
      "watersheds_30\n",
      "RioGrande\n",
      "IsaackLakePoly\n",
      "Landform_WGS84_13N\n",
      "CottonwoodSpringsExcabations\n",
      "cr_rg_point\n",
      "cr_wellpt\n",
      "davidtoledo\n",
      "skipping layer: davidtoledo\n",
      "dcr_exc_point\n",
      "export2\n",
      "Export_Output\n",
      "GDB_Items\n",
      "skipping layer: GDB_Items\n",
      "GigaPan_Camera_Loc\n",
      "JER_HistoricalPhotos\n",
      "JornadaStudy_JER_Dec17\n",
      "JornadaStudy_PlotTrtmts\n",
      "JornadaStudy_sdebrisgantrysoploecho\n",
      "Jornex_Grids\n",
      "Jornex_transects\n",
      "mongersamp\n",
      "skipping layer: mongersamp\n",
      "mongerunsam\n",
      "skipping layer: mongerunsam\n",
      "Nitrogen_storage_creosotebush_poly\n",
      "NPP_Arthropods_1988_1994\n",
      "NPP_arthropods_1996_2000\n",
      "points\n",
      "Research_LTER_transect_stations\n",
      "Soil_samples\n",
      "Soil_Core_5m\n",
      "Transect_plant_line_intercept\n",
      "transects\n",
      "wwdt_1938\n",
      "boundary\n",
      "skipping layer: boundary\n",
      "StudiesBuf50_26Nov2014\n",
      "OffLimits_27Feb2014_Final\n",
      "OffLimits_20Aug15\n",
      "All5_Sites_420m_Buf50\n",
      "All5_Sites_420m_Landsat_poly\n"
     ]
    }
   ],
   "source": [
    "gpkgs = ['JornadaVegetation.gpkg',\n",
    "    'JornadaBounds&Structures.gpkg',\n",
    "    'JornadaMonitoringStations.gpkg',\n",
    "    'JornadaLandforms&Soil.gpkg',\n",
    "    'JornadaMisc.gpkg']\n",
    "\n",
    "for i, pkg_path in enumerate(gpkgs[0:5]):\n",
    "    # Create a folder\n",
    "    folder_pkg = pkg_path.split('.')[0]\n",
    "    gis.content.create_folder(folder_pkg)\n",
    "\n",
    "    # Get the metadata\n",
    "    pkg_md = metadata[metadata.package_name==folder_pkg]\n",
    "    \n",
    "    # Copy the geopackage layers into the featureLayerCollection\n",
    "    items, fslist = agol.geopkg_to_single_fs(gis, folder_pkg, pkg_path,\n",
    "        pkg_md, clean_local=True)\n",
    "\n",
    "    # Share the feature layers with groups\n",
    "    for i in range(len(fslist)):\n",
    "        fslist[i].share(everyone=False, org=False,\n",
    "            groups=[jornadagis_grpid, johntest_grpid])"
   ]
  },
  {
   "cell_type": "code",
   "execution_count": 157,
   "id": "4a3a4013",
   "metadata": {},
   "outputs": [],
   "source": [
    "#folder_geojson = 'JornadaMonitoringStations'\n",
    "#folder_pkg = 'JornadaResearchProjects'\n",
    "#gis.content.delete_folder(folder_geojson)\n",
    "#gis.content.delete_folder(folder_pkg)"
   ]
  }
 ],
 "metadata": {
  "kernelspec": {
   "display_name": "Python 3 (ipykernel)",
   "language": "python",
   "name": "python3"
  },
  "language_info": {
   "codemirror_mode": {
    "name": "ipython",
    "version": 3
   },
   "file_extension": ".py",
   "mimetype": "text/x-python",
   "name": "python",
   "nbconvert_exporter": "python",
   "pygments_lexer": "ipython3",
   "version": "3.8.16"
  }
 },
 "nbformat": 4,
 "nbformat_minor": 5
}

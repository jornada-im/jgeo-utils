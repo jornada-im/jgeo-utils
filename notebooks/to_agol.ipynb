{
 "cells": [
  {
   "cell_type": "code",
   "execution_count": 158,
   "id": "e25ed348-24dc-49f9-bcb1-1d13e9b7a795",
   "metadata": {},
   "outputs": [],
   "source": [
    "from arcgis.gis import GIS\n",
    "import sqlalchemy as sqla\n",
    "import geopandas as gpd\n",
    "import pandas as pd\n",
    "import os\n",
    "import glob\n",
    "# Get credentials for the jgeo database\n",
    "import sys\n",
    "sys.path.append('/home/greg/admin/')\n",
    "import jgeo_cred as dbcred\n",
    "# Some stuff we need to access the NMSU ArcGIS Online system\n",
    "import nmsu_agol_cred # AGOL credentials\n",
    "\n",
    "# jgeo_utils imports\n",
    "sys.path.append('/home/greg/GitHub/jgeo_utils')\n",
    "import jgeo_py.agol as agol\n",
    "import jgeo_py.pg as pg\n",
    "\n",
    "# get a connection to jgeo\n",
    "conn = sqla.create_engine(\"postgresql+psycopg2://{0}:{1}@{2}:5432/{3}\".format(\n",
    "    dbcred.user, dbcred.pwd, dbcred.host, dbcred.db))\n",
    "\n",
    "# Log into NMSU AGOL and get a GIS object\n",
    "gis = GIS(nmsu_agol_cred.agol_url, \n",
    "          username=nmsu_agol_cred.agol_user,\n",
    "          password=nmsu_agol_cred.password)\n",
    "\n",
    "# Path to local jgeo folder\n",
    "jgeo_path = '/home/greg/data/rawdata/JornadaGeospatial'"
   ]
  },
  {
   "cell_type": "code",
   "execution_count": 40,
   "id": "717522fe-f716-45ae-9081-e0c468adb5fe",
   "metadata": {},
   "outputs": [],
   "source": [
    "# Get groupids\n",
    "jgrp_id = gis.groups.search('title:JornadaGIS')[0].id\n",
    "jgrp_pub_id = gis.groups.search('title:Jornada GIS Portal')[0].id"
   ]
  },
  {
   "cell_type": "code",
   "execution_count": 156,
   "id": "15662724-4ff3-4fd1-a864-de828be7282e",
   "metadata": {},
   "outputs": [
    {
     "data": {
      "text/plain": [
       "[<Item title:\"Soil_Core_5m\" type:Feature Layer Collection owner:gmaurer1>,\n",
       " <Item title:\"cr_rg_point\" type:Feature Layer Collection owner:gmaurer1>,\n",
       " <Item title:\"JornadaStudy_sdebrisgantrysoploecho\" type:Feature Layer Collection owner:gmaurer1>,\n",
       " <Item title:\"Export_Output\" type:Feature Layer Collection owner:gmaurer1>,\n",
       " <Item title:\"GigaPan_Camera_Loc\" type:Feature Layer Collection owner:gmaurer1>]"
      ]
     },
     "execution_count": 156,
     "metadata": {},
     "output_type": "execute_result"
    }
   ],
   "source": [
    "# Search existing content\n",
    "my_content = gis.content.search(query=\"owner:\" + gis.users.me.username, \n",
    "                                item_type=\"Feature Layer\",\n",
    "                                max_items=5)\n",
    "my_content"
   ]
  },
  {
   "cell_type": "code",
   "execution_count": 154,
   "id": "c4051542-6494-46ba-9571-fb7cc047dbaa",
   "metadata": {},
   "outputs": [
    {
     "data": {
      "text/plain": [
       "'/tmp/metadata.xml'"
      ]
     },
     "execution_count": 154,
     "metadata": {},
     "output_type": "execute_result"
    }
   ],
   "source": [
    "# Get metadata for a published item\n",
    "my_content[0].download_metadata()"
   ]
  },
  {
   "cell_type": "code",
   "execution_count": 15,
   "id": "7b714af0-bb5b-4ec8-b5f1-b7665ef58fb3",
   "metadata": {
    "collapsed": true,
    "jupyter": {
     "outputs_hidden": true
    },
    "tags": []
   },
   "outputs": [
    {
     "name": "stderr",
     "output_type": "stream",
     "text": [
      "/home/greg/data/miniconda3/envs/jgeo/lib/python3.8/site-packages/arcgis/features/geo/_io/fileops.py:1027: ShapelyDeprecationWarning: The 'type' attribute is deprecated, and will be removed in the future. You can use the 'geom_type' attribute instead.\n",
      "  geom_type = df.loc[idx][geom_field].type\n"
     ]
    },
    {
     "ename": "KeyError",
     "evalue": "'MultiPolygon'",
     "output_type": "error",
     "traceback": [
      "\u001b[0;31m---------------------------------------------------------------------------\u001b[0m",
      "\u001b[0;31mKeyError\u001b[0m                                  Traceback (most recent call last)",
      "Cell \u001b[0;32mIn[15], line 3\u001b[0m\n\u001b[1;32m      1\u001b[0m \u001b[38;5;66;03m# This doesn't really work with geometry columns. If there were\u001b[39;00m\n\u001b[1;32m      2\u001b[0m \u001b[38;5;66;03m# X & Y columns it might\u001b[39;00m\n\u001b[0;32m----> 3\u001b[0m test_fc \u001b[38;5;241m=\u001b[39m \u001b[43mgis\u001b[49m\u001b[38;5;241;43m.\u001b[39;49m\u001b[43mcontent\u001b[49m\u001b[38;5;241;43m.\u001b[39;49m\u001b[43mimport_data\u001b[49m\u001b[43m(\u001b[49m\u001b[43mtest\u001b[49m\u001b[43m)\u001b[49m\n\u001b[1;32m      4\u001b[0m test_fc\n",
      "File \u001b[0;32m~/data/miniconda3/envs/jgeo/lib/python3.8/site-packages/arcgis/gis/__init__.py:6458\u001b[0m, in \u001b[0;36mContentManager.import_data\u001b[0;34m(self, df, address_fields, folder, item_id, **kwargs)\u001b[0m\n\u001b[1;32m   6456\u001b[0m     ds \u001b[38;5;241m=\u001b[39m df\u001b[38;5;241m.\u001b[39mto_featureclass(out_location\u001b[38;5;241m=\u001b[39mtemp_dir, out_name\u001b[38;5;241m=\u001b[39mname)\n\u001b[1;32m   6457\u001b[0m \u001b[38;5;28;01melse\u001b[39;00m:\n\u001b[0;32m-> 6458\u001b[0m     ds \u001b[38;5;241m=\u001b[39m \u001b[43mdf\u001b[49m\u001b[38;5;241;43m.\u001b[39;49m\u001b[43mspatial\u001b[49m\u001b[38;5;241;43m.\u001b[39;49m\u001b[43mto_featureclass\u001b[49m\u001b[43m(\u001b[49m\n\u001b[1;32m   6459\u001b[0m \u001b[43m        \u001b[49m\u001b[43mlocation\u001b[49m\u001b[38;5;241;43m=\u001b[39;49m\u001b[43mos\u001b[49m\u001b[38;5;241;43m.\u001b[39;49m\u001b[43mpath\u001b[49m\u001b[38;5;241;43m.\u001b[39;49m\u001b[43mjoin\u001b[49m\u001b[43m(\u001b[49m\u001b[43mtemp_dir\u001b[49m\u001b[43m,\u001b[49m\u001b[43m \u001b[49m\u001b[43mname\u001b[49m\u001b[43m)\u001b[49m\n\u001b[1;32m   6460\u001b[0m \u001b[43m    \u001b[49m\u001b[43m)\u001b[49m\n\u001b[1;32m   6461\u001b[0m zip_shp \u001b[38;5;241m=\u001b[39m zipws(path\u001b[38;5;241m=\u001b[39mtemp_dir, outfile\u001b[38;5;241m=\u001b[39mtemp_zip, keep\u001b[38;5;241m=\u001b[39m\u001b[38;5;28;01mFalse\u001b[39;00m)\n\u001b[1;32m   6462\u001b[0m item \u001b[38;5;241m=\u001b[39m \u001b[38;5;28mself\u001b[39m\u001b[38;5;241m.\u001b[39madd(\n\u001b[1;32m   6463\u001b[0m     item_properties\u001b[38;5;241m=\u001b[39m{\u001b[38;5;124m\"\u001b[39m\u001b[38;5;124mtitle\u001b[39m\u001b[38;5;124m\"\u001b[39m: title, \u001b[38;5;124m\"\u001b[39m\u001b[38;5;124mtags\u001b[39m\u001b[38;5;124m\"\u001b[39m: tags},\n\u001b[1;32m   6464\u001b[0m     data\u001b[38;5;241m=\u001b[39mzip_shp,\n\u001b[1;32m   6465\u001b[0m     folder\u001b[38;5;241m=\u001b[39mfolder,\n\u001b[1;32m   6466\u001b[0m )\n",
      "File \u001b[0;32m~/data/miniconda3/envs/jgeo/lib/python3.8/site-packages/arcgis/features/geo/_accessor.py:2382\u001b[0m, in \u001b[0;36mGeoAccessor.to_featureclass\u001b[0;34m(self, location, overwrite, has_z, has_m, sanitize_columns)\u001b[0m\n\u001b[1;32m   2377\u001b[0m \u001b[38;5;28;01mif\u001b[39;00m location \u001b[38;5;129;01mand\u001b[39;00m \u001b[38;5;129;01mnot\u001b[39;00m \u001b[38;5;28mstr\u001b[39m(os\u001b[38;5;241m.\u001b[39mpath\u001b[38;5;241m.\u001b[39mdirname(location))\u001b[38;5;241m.\u001b[39mlower() \u001b[38;5;129;01min\u001b[39;00m [\n\u001b[1;32m   2378\u001b[0m     \u001b[38;5;124m\"\u001b[39m\u001b[38;5;124mmemory\u001b[39m\u001b[38;5;124m\"\u001b[39m,\n\u001b[1;32m   2379\u001b[0m     \u001b[38;5;124m\"\u001b[39m\u001b[38;5;124min_memory\u001b[39m\u001b[38;5;124m\"\u001b[39m,\n\u001b[1;32m   2380\u001b[0m ]:\n\u001b[1;32m   2381\u001b[0m     location \u001b[38;5;241m=\u001b[39m os\u001b[38;5;241m.\u001b[39mpath\u001b[38;5;241m.\u001b[39mabspath(path\u001b[38;5;241m=\u001b[39mlocation)\n\u001b[0;32m-> 2382\u001b[0m \u001b[38;5;28;01mreturn\u001b[39;00m \u001b[43mto_featureclass\u001b[49m\u001b[43m(\u001b[49m\n\u001b[1;32m   2383\u001b[0m \u001b[43m    \u001b[49m\u001b[38;5;28;43mself\u001b[39;49m\u001b[43m,\u001b[49m\n\u001b[1;32m   2384\u001b[0m \u001b[43m    \u001b[49m\u001b[43mlocation\u001b[49m\u001b[38;5;241;43m=\u001b[39;49m\u001b[43mlocation\u001b[49m\u001b[43m,\u001b[49m\n\u001b[1;32m   2385\u001b[0m \u001b[43m    \u001b[49m\u001b[43moverwrite\u001b[49m\u001b[38;5;241;43m=\u001b[39;49m\u001b[43moverwrite\u001b[49m\u001b[43m,\u001b[49m\n\u001b[1;32m   2386\u001b[0m \u001b[43m    \u001b[49m\u001b[43mhas_z\u001b[49m\u001b[38;5;241;43m=\u001b[39;49m\u001b[43mhas_z\u001b[49m\u001b[43m,\u001b[49m\n\u001b[1;32m   2387\u001b[0m \u001b[43m    \u001b[49m\u001b[43msanitize_columns\u001b[49m\u001b[38;5;241;43m=\u001b[39;49m\u001b[43msanitize_columns\u001b[49m\u001b[43m,\u001b[49m\n\u001b[1;32m   2388\u001b[0m \u001b[43m    \u001b[49m\u001b[43mhas_m\u001b[49m\u001b[38;5;241;43m=\u001b[39;49m\u001b[43mhas_m\u001b[49m\u001b[43m,\u001b[49m\n\u001b[1;32m   2389\u001b[0m \u001b[43m\u001b[49m\u001b[43m)\u001b[49m\n",
      "File \u001b[0;32m~/data/miniconda3/envs/jgeo/lib/python3.8/site-packages/arcgis/features/geo/_io/fileops.py:863\u001b[0m, in \u001b[0;36mto_featureclass\u001b[0;34m(geo, location, overwrite, validate, sanitize_columns, has_m, has_z)\u001b[0m\n\u001b[1;32m    861\u001b[0m     \u001b[38;5;28;01mreturn\u001b[39;00m res\n\u001b[1;32m    862\u001b[0m \u001b[38;5;28;01melse\u001b[39;00m:\n\u001b[0;32m--> 863\u001b[0m     res \u001b[38;5;241m=\u001b[39m \u001b[43m_pyshp2\u001b[49m\u001b[43m(\u001b[49m\u001b[43mdf\u001b[49m\u001b[38;5;241;43m=\u001b[39;49m\u001b[43mdf\u001b[49m\u001b[43m,\u001b[49m\u001b[43m \u001b[49m\u001b[43mout_path\u001b[49m\u001b[38;5;241;43m=\u001b[39;49m\u001b[43mout_location\u001b[49m\u001b[43m,\u001b[49m\u001b[43m \u001b[49m\u001b[43mout_name\u001b[49m\u001b[38;5;241;43m=\u001b[39;49m\u001b[43mfc_name\u001b[49m\u001b[43m)\u001b[49m\n\u001b[1;32m    864\u001b[0m     df\u001b[38;5;241m.\u001b[39mset_index(old_idx)\n\u001b[1;32m    865\u001b[0m     \u001b[38;5;28;01mreturn\u001b[39;00m res\n",
      "File \u001b[0;32m~/data/miniconda3/envs/jgeo/lib/python3.8/site-packages/arcgis/features/geo/_io/fileops.py:1029\u001b[0m, in \u001b[0;36m_pyshp2\u001b[0;34m(df, out_path, out_name)\u001b[0m\n\u001b[1;32m   1026\u001b[0m \u001b[38;5;28;01mif\u001b[39;00m idx \u001b[38;5;241m>\u001b[39m \u001b[38;5;241m-\u001b[39m\u001b[38;5;241m1\u001b[39m:\n\u001b[1;32m   1027\u001b[0m     geom_type \u001b[38;5;241m=\u001b[39m df\u001b[38;5;241m.\u001b[39mloc[idx][geom_field]\u001b[38;5;241m.\u001b[39mtype\n\u001b[1;32m   1028\u001b[0m shpfile \u001b[38;5;241m=\u001b[39m shapefile\u001b[38;5;241m.\u001b[39mWriter(\n\u001b[0;32m-> 1029\u001b[0m     target\u001b[38;5;241m=\u001b[39mout_fc, shapeType\u001b[38;5;241m=\u001b[39m\u001b[43mGEOMTYPELOOKUP\u001b[49m\u001b[43m[\u001b[49m\u001b[43mgeom_type\u001b[49m\u001b[43m]\u001b[49m, autoBalance\u001b[38;5;241m=\u001b[39m\u001b[38;5;28;01mTrue\u001b[39;00m\n\u001b[1;32m   1030\u001b[0m )\n\u001b[1;32m   1031\u001b[0m dfields \u001b[38;5;241m=\u001b[39m []\n\u001b[1;32m   1032\u001b[0m cfields \u001b[38;5;241m=\u001b[39m []\n",
      "\u001b[0;31mKeyError\u001b[0m: 'MultiPolygon'"
     ]
    }
   ],
   "source": [
    "# Trying to import a pandas dataframe as an item\n",
    "# This doesn't really work with geometry columns. If there were\n",
    "# X & Y columns it might\n",
    "test_fc = gis.content.import_data(test)\n",
    "test_fc"
   ]
  },
  {
   "cell_type": "markdown",
   "id": "217fd145-55e0-4fce-a8da-ad430290e38f",
   "metadata": {},
   "source": [
    "## Create 'jgeo_layers' and 'jgeo_layers_public' folders"
   ]
  },
  {
   "cell_type": "code",
   "execution_count": 136,
   "id": "0c0e36f1-4f48-4e33-80de-c5f4192975f4",
   "metadata": {},
   "outputs": [
    {
     "data": {
      "text/plain": [
       "{'username': 'gmaurer1',\n",
       " 'id': 'df57116977dc44748f72bf7fc45aa7b2',\n",
       " 'title': 'jgeo_layers_public'}"
      ]
     },
     "execution_count": 136,
     "metadata": {},
     "output_type": "execute_result"
    }
   ],
   "source": [
    "# Create our content folders if they don't exist\n",
    "gis.content.create_folder('jgeo_layers')\n",
    "gis.content.create_folder('jgeo_layers_public')"
   ]
  },
  {
   "cell_type": "code",
   "execution_count": 143,
   "id": "2134575d-b813-4156-8918-a23f2b37ffcb",
   "metadata": {},
   "outputs": [],
   "source": [
    "# Inventory of layers\n",
    "jgeo_online = pd.read_csv(os.path.join(jgeo_path, 'jgeo_layers_online.csv'))\n",
    "# Get layers that are in jgeo only\n",
    "jgeo_online = jgeo_online[~pd.isna(jgeo_online.jgeo_table_name)]"
   ]
  },
  {
   "cell_type": "code",
   "execution_count": 150,
   "id": "ec0703fe-b0eb-4213-8683-05cee0d2ab06",
   "metadata": {
    "tags": []
   },
   "outputs": [
    {
     "name": "stdout",
     "output_type": "stream",
     "text": [
      "72\n",
      "prj405_jrnphysiography2000\n",
      "73\n",
      "prj405_jrnlandforms2000\n",
      "74\n",
      "prj405_jrnsoilparentmaterials2000\n",
      "75\n",
      "prj420_playas_30\n",
      "76\n",
      "prj420_watersheds_30\n",
      "77\n",
      "riogrande\n",
      "78\n",
      "isaacklakepoly\n"
     ]
    }
   ],
   "source": [
    "import imp\n",
    "imp.reload(agol)\n",
    "imp.reload(pg)\n",
    "\n",
    "for i in jgeo_online[60:].index:\n",
    "    print(i)\n",
    "    # Get jgeo layer info from table\n",
    "    schema = jgeo_online.jgeo_schema[i]\n",
    "    layer = jgeo_online.jgeo_table_name[i]\n",
    "    print(layer)\n",
    "    # Pull metadata from jgeo\n",
    "    md = pg.md_dict(conn, schema, layer)\n",
    "    fl_properties = agol.qmd_to_agol(jgeo_online.agol_title[i], md['qmd'])\n",
    "    # Write to geojson file in temp dir\n",
    "    geojson_fname = pg.table_to_geojson(conn, schema, layer, \n",
    "                                        outdir=os.path.join(jgeo_path, 'tmp'))\n",
    "    # Publish the layer to jgeo_layers_public if requested\n",
    "    if jgeo_online.make_public[i]:\n",
    "        item, fl = agol.add_geojson_item(geojson_fname, gis,\n",
    "                                         'jgeo_layers_public',\n",
    "                                         properties=fl_properties,\n",
    "                                         publish_after=True,\n",
    "                                         remove_after=True,\n",
    "                                        )\n",
    "        # Delete the geojson file from agol\n",
    "        item.delete()\n",
    "        # Share with public\n",
    "        fl.share(everyone=True, org=True,\n",
    "            groups=[jgrp_id, jgrp_pub_id])\n",
    "        \n",
    "    # Or to jgeo_layers if for internal use\n",
    "    else:\n",
    "        item, fl = agol.add_geojson_item(geojson_fname, gis, \n",
    "                                         'jgeo_layers',\n",
    "                                         properties=fl_properties,\n",
    "                                         publish_after=True,\n",
    "                                         remove_after=True)\n",
    "        # Delete the geojson file from agol\n",
    "        item.delete()\n",
    "        fl.share(everyone=False, org=False,\n",
    "            groups=[jgrp_id])\n",
    "    \n",
    "    #layer = 'prj404_cdrrcvegetation1938_new'\n",
    "    #test = pg.table_to_gdf(conn, schema, layer)\n",
    "    #md = pg.md_dict(conn, schema, layer)\n",
    "#md = pd.read_sql(\"SELECT * FROM public.qgis_layer_metadata WHERE f_table_name = 'prj404_cdrrcvegetation1938_new';\", conn)"
   ]
  },
  {
   "cell_type": "code",
   "execution_count": 135,
   "id": "79c930a1-0548-4afd-92ed-e9131a1f066a",
   "metadata": {},
   "outputs": [
    {
     "data": {
      "text/plain": [
       "True"
      ]
     },
     "execution_count": 135,
     "metadata": {},
     "output_type": "execute_result"
    }
   ],
   "source": [
    "# Delete if we are just testing!\n",
    "gis.content.delete_folder('jgeo_layers_public')\n",
    "gis.content.delete_folder('jgeo_layers')"
   ]
  },
  {
   "cell_type": "markdown",
   "id": "1747eaf1",
   "metadata": {},
   "source": [
    "## Copy research project geopackages to AGOL\n",
    "\n",
    "This is deprecated - just for example"
   ]
  },
  {
   "cell_type": "code",
   "execution_count": 50,
   "id": "1d9e73e3-6177-418c-9d4f-1e4143c031f3",
   "metadata": {},
   "outputs": [
    {
     "name": "stdout",
     "output_type": "stream",
     "text": [
      "prj001\n",
      "True\n",
      "True\n",
      "True\n",
      "True\n",
      "True\n",
      "prj002\n",
      "True\n",
      "prj004\n",
      "True\n",
      "prj008\n",
      "True\n",
      "prj009\n",
      "True\n",
      "True\n",
      "prj010\n",
      "True\n",
      "True\n"
     ]
    }
   ],
   "source": [
    "# Metadata file\n",
    "metadata = pd.read_csv(os.path.join(jgeo_path, 'metadata', 'JornadaGeosp_metadata_20220107.csv'))\n",
    "\n",
    "# Get a sorted list of all the project geopackages\n",
    "prj_gpkgs = sorted(glob.glob(os.path.join(jgeo_path, \"jrn_studies\", \"/*.gpkg\")))\n",
    "\n",
    "# Create a folder for GeoJSON items and for the \n",
    "# packages (FeatureLayerCollections)\n",
    "folder_geojson = 'JornadaResearchProjects_geojson'\n",
    "gis.content.create_folder(folder_geojson)\n",
    "folder_pkg = 'JornadaResearchProjects'\n",
    "gis.content.create_folder(folder_pkg)\n",
    "\n",
    "for i, pkg_path in enumerate(prj_gpkgs[0:6]):\n",
    "    pkg_name = pkg_path.split('/')[1][0:6]\n",
    "    studyid = pkg_name[3:6]\n",
    "    print(pkg_name)\n",
    "    # Get the metadata\n",
    "    pkg_md = metadata[metadata.gpkg_fname==pkg_name+'.gpkg']\n",
    "    \n",
    "    # Create a hosted feature service on AGOL\n",
    "    new_svc = gis.content.create_service(name=pkg_name,\n",
    "        service_type='featureService', folder=folder_pkg)\n",
    "    # Create a featureLayerCollection with new_svc\n",
    "    new_flc = fs.FeatureLayerCollection.fromitem(new_svc)\n",
    "    # Share the feature service with the JornadaGIS group\n",
    "    new_svc.share(everyone=False, org=False, groups=[jornadagis_grpid])\n",
    "\n",
    "    # Update the properties of the new featureLayerCollection (title,\n",
    "    # summary, description, etc)\n",
    "    fs_defs = agol.jornada_fs_definitions(new_flc, pkg_md)\n",
    "    # A little kludge to fix the geopackage description\n",
    "    fs_defs['description'] = fs_defs['description'].replace(\n",
    "        ' layer is part of ', ' is ')\n",
    "    new_flc.manager.update_definition(fs_defs)\n",
    "    new_svc.update(fs_defs) # This updates the item info?\n",
    "    # Copy the geopackage layers into the featureLayerCollection\n",
    "    agol.geopkg_to_multi_fs(gis, folder_geojson, new_flc, pkg_path,\n",
    "        pkg_md, clean_local=True)\n",
    "\n",
    "    "
   ]
  },
  {
   "cell_type": "code",
   "execution_count": 49,
   "id": "403979b5-7912-46d0-9af9-b9545f610506",
   "metadata": {},
   "outputs": [
    {
     "name": "stdout",
     "output_type": "stream",
     "text": [
      "Folder doesn't exist.\n",
      "Folder doesn't exist.\n"
     ]
    },
    {
     "data": {
      "text/plain": [
       "False"
      ]
     },
     "execution_count": 49,
     "metadata": {},
     "output_type": "execute_result"
    }
   ],
   "source": [
    "folder_geojson = 'JornadaResearchProjects_geojson'\n",
    "folder_pkg = 'JornadaResearchProjects'\n",
    "gis.content.delete_folder(folder_geojson)\n",
    "gis.content.delete_folder(folder_pkg)"
   ]
  },
  {
   "cell_type": "markdown",
   "id": "913aacfc",
   "metadata": {},
   "source": [
    "## Copy thematic geopackages\n",
    "\n",
    "This is deprecated - just for example"
   ]
  },
  {
   "cell_type": "code",
   "execution_count": 7,
   "id": "8b06f377",
   "metadata": {},
   "outputs": [
    {
     "name": "stdout",
     "output_type": "stream",
     "text": [
      "CDRRCGrassCondition1858\n",
      "CDRRCShrubPresence1858\n",
      "JERGrassCondition1858\n",
      "JERShrubPresence1858\n",
      "JERVegetation1915\n",
      "JERVegetation1928\n",
      "JERVegetation1998\n",
      "Buffington_Herbel_1858\n",
      "Buffington_Herbel_1915\n",
      "Buffington_Herbel_1928\n",
      "Buffington_Herbel_1963\n",
      "1938_CDRRC_Vegetation\n",
      "1998_CDRRC_Vegetation\n",
      "Boundary_JER_full\n",
      "Boundary_CDRRC_JER\n",
      "All3_Bdry_25Aug15\n",
      "Airstrip\n",
      "BurnPlots21Aug13\n",
      "Cattleguards\n",
      "CDNP_Bdry_25Aug15\n",
      "CDRRC_Bdry_25Aug15\n",
      "CDRRC_ExcloEDITED21Aug13\n",
      "CDRRC_Exclosures_17Sep15\n",
      "ClosedRoad\n",
      "CSISParking\n",
      "DefunctTowers\n",
      "Dirt_Tanks\n",
      "ExclosuresJER_17Jul2015\n",
      "ExclusuresJER_Jul172015\n",
      "JER_Bdry_25Aug15\n",
      "JER_CDRRC_Bdry_FromCorrectedMar2014\n",
      "JER_DeededBndry_OCt2013\n",
      "JER_FtB_WSMR_bndry\n",
      "Lvstk_Corral_Lot_Lane\n",
      "Pastures_CDRRC2_16Sep15\n",
      "Pastures_JER_16Sep15\n",
      "RanchStructures\n",
      "random_troughs\n",
      "skipping layer: random_troughs\n",
      "Rds_ClipToJER_27Apr18\n",
      "RemvdFenceLabel\n",
      "skipping layer: RemvdFenceLabel\n",
      "RemvdFences\n",
      "Tanks\n",
      "Towers3\n",
      "TwdieTower_WGS84\n",
      "UTEP_Site_Access_Trail_UTM\n",
      "Wells\n",
      "AllRds_JER_And_Vicinity_04Sep15\n",
      "Fence_JER_06Nov15\n",
      "Fence_CDRRC_26Aug15\n",
      "JornadaStudy_379_noaa_weather_station_climate_monthly?\n",
      "JornadaStudy_379_noaa_weather_station_evaporation_pan_monthly?\n",
      "JornadaStudy_548(413)_MetTower\n",
      "MetSta_413_DD\n",
      "JER_29Rgs\n",
      "JER_Rg_DThatcher_Oct2013\n",
      "All_RG_25Mar15_WGS84\n",
      "All_RainGauge_15Oct13\n",
      "All_RainGauge_15Oct13_1\n",
      "RG_JER_onlyNotLTER\n",
      "RG_JER_onlyNotLTER_1\n",
      "WeatherStations\n",
      "layer_styles\n",
      "JornadaGeomorphology\n",
      "JERSoil1963\n",
      "JERSoils1918\n",
      "JRNPhysiography2000\n",
      "JRNLandforms2000\n",
      "JRNSoilParentMaterials2000\n",
      "Playas_30\n",
      "watersheds_30\n",
      "RioGrande\n",
      "IsaackLakePoly\n",
      "Landform_WGS84_13N\n",
      "CottonwoodSpringsExcabations\n",
      "cr_rg_point\n",
      "cr_wellpt\n",
      "davidtoledo\n",
      "skipping layer: davidtoledo\n",
      "dcr_exc_point\n",
      "export2\n",
      "Export_Output\n",
      "GDB_Items\n",
      "skipping layer: GDB_Items\n",
      "GigaPan_Camera_Loc\n",
      "JER_HistoricalPhotos\n",
      "JornadaStudy_JER_Dec17\n",
      "JornadaStudy_PlotTrtmts\n",
      "JornadaStudy_sdebrisgantrysoploecho\n",
      "Jornex_Grids\n",
      "Jornex_transects\n",
      "mongersamp\n",
      "skipping layer: mongersamp\n",
      "mongerunsam\n",
      "skipping layer: mongerunsam\n",
      "Nitrogen_storage_creosotebush_poly\n",
      "NPP_Arthropods_1988_1994\n",
      "NPP_arthropods_1996_2000\n",
      "points\n",
      "Research_LTER_transect_stations\n",
      "Soil_samples\n",
      "Soil_Core_5m\n",
      "Transect_plant_line_intercept\n",
      "transects\n",
      "wwdt_1938\n",
      "boundary\n",
      "skipping layer: boundary\n",
      "StudiesBuf50_26Nov2014\n",
      "OffLimits_27Feb2014_Final\n",
      "OffLimits_20Aug15\n",
      "All5_Sites_420m_Buf50\n",
      "All5_Sites_420m_Landsat_poly\n"
     ]
    }
   ],
   "source": [
    "gpkgs = ['JornadaVegetation.gpkg',\n",
    "    'JornadaBounds&Structures.gpkg',\n",
    "    'JornadaMonitoringStations.gpkg',\n",
    "    'JornadaLandforms&Soil.gpkg',\n",
    "    'JornadaMisc.gpkg']\n",
    "\n",
    "for i, pkg_path in enumerate(gpkgs[0:5]):\n",
    "    # Create a folder\n",
    "    folder_pkg = pkg_path.split('.')[0]\n",
    "    gis.content.create_folder(folder_pkg)\n",
    "\n",
    "    # Get the metadata\n",
    "    pkg_md = metadata[metadata.package_name==folder_pkg]\n",
    "    \n",
    "    # Copy the geopackage layers into the featureLayerCollection\n",
    "    items, fslist = agol.geopkg_to_single_fs(gis, folder_pkg, pkg_path,\n",
    "        pkg_md, clean_local=True)\n",
    "\n",
    "    # Share the feature layers with groups\n",
    "    for i in range(len(fslist)):\n",
    "        fslist[i].share(everyone=False, org=False,\n",
    "            groups=[jornadagis_grpid, johntest_grpid])"
   ]
  },
  {
   "cell_type": "code",
   "execution_count": 157,
   "id": "4a3a4013",
   "metadata": {},
   "outputs": [],
   "source": [
    "#folder_geojson = 'JornadaMonitoringStations'\n",
    "#folder_pkg = 'JornadaResearchProjects'\n",
    "#gis.content.delete_folder(folder_geojson)\n",
    "#gis.content.delete_folder(folder_pkg)"
   ]
  }
 ],
 "metadata": {
  "kernelspec": {
   "display_name": "Python 3 (ipykernel)",
   "language": "python",
   "name": "python3"
  },
  "language_info": {
   "codemirror_mode": {
    "name": "ipython",
    "version": 3
   },
   "file_extension": ".py",
   "mimetype": "text/x-python",
   "name": "python",
   "nbconvert_exporter": "python",
   "pygments_lexer": "ipython3",
   "version": "3.8.16"
  }
 },
 "nbformat": 4,
 "nbformat_minor": 5
}
